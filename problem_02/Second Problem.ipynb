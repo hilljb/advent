{
 "cells": [
  {
   "cell_type": "markdown",
   "metadata": {},
   "source": [
    "## First Part"
   ]
  },
  {
   "cell_type": "code",
   "execution_count": 5,
   "metadata": {},
   "outputs": [
    {
     "data": {
      "text/plain": [
       "7872"
      ]
     },
     "execution_count": 5,
     "metadata": {},
     "output_type": "execute_result"
    }
   ],
   "source": [
    "fp = open('input.txt','r')\n",
    "\n",
    "L = []\n",
    "for line in fp:\n",
    "    L.append(list(line.replace('\\n','')))\n",
    "\n",
    "twos = sum([1 for line in L if any([line.count(letter)==2 for letter in set(line)])])\n",
    "threes = sum([1 for line in L if any([line.count(letter)==3 for letter in set(line)])])\n",
    "\n",
    "twos*threes"
   ]
  },
  {
   "cell_type": "markdown",
   "metadata": {},
   "source": [
    "# Second Part\n",
    "\n",
    "The words all have the same length and we're only looking for a single difference. So, sort them and iterate through the list of words, printing the pairs that are one off. This has the potential to fail if a close word fits between them when sorted, but it turns out to work in this case. Just copy one of the words without the g/w (8 from the end) and paste that for the answer."
   ]
  },
  {
   "cell_type": "code",
   "execution_count": 8,
   "metadata": {},
   "outputs": [
    {
     "name": "stdout",
     "output_type": "stream",
     "text": [
      "tjxmoewpdkyaihvrndgfluwbzc\n",
      "tjxmoewpdkyaihvrndwfluwbzc\n"
     ]
    }
   ],
   "source": [
    "L.sort()\n",
    "for i in range(len(L)-1):\n",
    "    Z = zip(L[i],L[i+1])\n",
    "    if sum([1 for z in Z if z[0]!=z[1]])==1:\n",
    "        print(''.join(L[i]))\n",
    "        print(''.join(L[i+1]))"
   ]
  },
  {
   "cell_type": "code",
   "execution_count": null,
   "metadata": {
    "collapsed": true
   },
   "outputs": [],
   "source": []
  }
 ],
 "metadata": {
  "kernelspec": {
   "display_name": "Python 3",
   "language": "python",
   "name": "python3"
  },
  "language_info": {
   "codemirror_mode": {
    "name": "ipython",
    "version": 3
   },
   "file_extension": ".py",
   "mimetype": "text/x-python",
   "name": "python",
   "nbconvert_exporter": "python",
   "pygments_lexer": "ipython3",
   "version": "3.6.7"
  }
 },
 "nbformat": 4,
 "nbformat_minor": 2
}
