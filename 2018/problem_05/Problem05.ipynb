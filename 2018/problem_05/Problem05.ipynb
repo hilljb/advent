{
 "cells": [
  {
   "cell_type": "code",
   "execution_count": 144,
   "metadata": {},
   "outputs": [],
   "source": [
    "fp = open('input.txt','r')\n",
    "for line in fp:\n",
    "    string = line.replace('\\n','')\n",
    "perm_string = string"
   ]
  },
  {
   "cell_type": "markdown",
   "metadata": {},
   "source": [
    "## Part 1"
   ]
  },
  {
   "cell_type": "code",
   "execution_count": 145,
   "metadata": {},
   "outputs": [],
   "source": [
    "def react(string):\n",
    "    for alpha in list('ABCDEFGHIJKLMNOPQRSTUVWXYZ'):\n",
    "        beta = alpha+alpha.lower()\n",
    "        gamma = alpha.lower()+alpha\n",
    "        string = string.replace(beta,'')\n",
    "        string = string.replace(gamma,'')\n",
    "    return(string)\n",
    "        \n",
    "r,s = len(string),len(react(string))\n",
    "while r!=s:\n",
    "    r = len(string)\n",
    "    string = react(string)\n",
    "    s = len(string)"
   ]
  },
  {
   "cell_type": "code",
   "execution_count": 146,
   "metadata": {},
   "outputs": [
    {
     "data": {
      "text/plain": [
       "11814"
      ]
     },
     "execution_count": 146,
     "metadata": {},
     "output_type": "execute_result"
    }
   ],
   "source": [
    "len(string)"
   ]
  },
  {
   "cell_type": "markdown",
   "metadata": {},
   "source": [
    "## Part 2"
   ]
  },
  {
   "cell_type": "code",
   "execution_count": 149,
   "metadata": {},
   "outputs": [],
   "source": [
    "shortest = 50000\n",
    "\n",
    "for alpha in list('ABCDEFGHIJKLMNOPQRSTUVWXYZ'):\n",
    "    string = perm_string\n",
    "    string = string.replace(alpha,'')\n",
    "    string = string.replace(alpha.lower(),'')\n",
    "    r,s = len(string),len(react(string))\n",
    "    while r!=s:\n",
    "        r = len(string)\n",
    "        string = react(string)\n",
    "        s = len(string)\n",
    "    if len(string) < shortest:\n",
    "        shortest = len(string)"
   ]
  },
  {
   "cell_type": "code",
   "execution_count": 150,
   "metadata": {},
   "outputs": [
    {
     "data": {
      "text/plain": [
       "4282"
      ]
     },
     "execution_count": 150,
     "metadata": {},
     "output_type": "execute_result"
    }
   ],
   "source": [
    "shortest"
   ]
  },
  {
   "cell_type": "code",
   "execution_count": null,
   "metadata": {
    "collapsed": true
   },
   "outputs": [],
   "source": []
  }
 ],
 "metadata": {
  "kernelspec": {
   "display_name": "Python 3",
   "language": "python",
   "name": "python3"
  },
  "language_info": {
   "codemirror_mode": {
    "name": "ipython",
    "version": 3
   },
   "file_extension": ".py",
   "mimetype": "text/x-python",
   "name": "python",
   "nbconvert_exporter": "python",
   "pygments_lexer": "ipython3",
   "version": "3.6.7"
  }
 },
 "nbformat": 4,
 "nbformat_minor": 2
}
