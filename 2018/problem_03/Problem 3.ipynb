{
 "cells": [
  {
   "cell_type": "markdown",
   "metadata": {},
   "source": [
    "## Parse Input\n",
    "\n",
    "Just read it into a list of claims, where each claim is a list of details about the claim we can use later."
   ]
  },
  {
   "cell_type": "code",
   "execution_count": 11,
   "metadata": {
    "collapsed": true
   },
   "outputs": [],
   "source": [
    "# Read the data into an array of claims C\n",
    "fp = open('input.txt','r')\n",
    "\n",
    "# Get the ugly part over with\n",
    "C = []\n",
    "for line in fp:\n",
    "    line = line.strip('\\n')\n",
    "    # claim identity\n",
    "    iden = int(line.split('#')[1].split(' ')[0])\n",
    "    # starting (top-left) coordinates\n",
    "    start_x = int(line.split(' ')[2].split(',')[0])\n",
    "    start_y = int(line.split(',')[1].split(':')[0])\n",
    "    # Size coordinates\n",
    "    size_x = int(line.split(' ')[3].split('x')[0])\n",
    "    size_y = int(line.split('x')[1])\n",
    "    # List of coordinates (for second part of problem)\n",
    "    coords = []\n",
    "    for x in range(start_x,start_x+size_x):\n",
    "        for y in range(start_y,start_y+size_y):\n",
    "            coords.append((x,y))\n",
    "    coords_set = set(coords) # Make it a set\n",
    "    C.append([iden, start_x, start_y, size_x, size_y, coords_set])"
   ]
  },
  {
   "cell_type": "code",
   "execution_count": 12,
   "metadata": {},
   "outputs": [
    {
     "name": "stdout",
     "output_type": "stream",
     "text": [
      "0\n",
      "0\n",
      "998\n",
      "998\n"
     ]
    }
   ],
   "source": [
    "min_x = min([c[1] for c in C])\n",
    "min_y = min([c[2] for c in C])\n",
    "max_x = max([c[1]+c[3] for c in C])\n",
    "max_y = max([c[2]+c[4] for c in C])\n",
    "\n",
    "print(min_x)\n",
    "print(min_y)\n",
    "print(max_x)\n",
    "print(max_y)"
   ]
  },
  {
   "cell_type": "markdown",
   "metadata": {},
   "source": [
    "## First Question"
   ]
  },
  {
   "cell_type": "code",
   "execution_count": 15,
   "metadata": {},
   "outputs": [
    {
     "data": {
      "text/plain": [
       "101781"
      ]
     },
     "execution_count": 15,
     "metadata": {},
     "output_type": "execute_result"
    }
   ],
   "source": [
    "# Make an array the size of the shape\n",
    "# It will hold the number of claims hitting each point\n",
    "claims = [[0 for i in range(max_x + 1)] for y in range(max_y + 1)]\n",
    "\n",
    "for c in C:\n",
    "    for x in range(c[1],c[1]+c[3]):\n",
    "        for y in range(c[2],c[2]+c[4]):\n",
    "            claims[y][x] += 1\n",
    "\n",
    "overlap = 0\n",
    "            \n",
    "for x in range(max_x+1):\n",
    "    for y in range(max_y+1):\n",
    "        if claims[y][x] > 1:\n",
    "            overlap += 1\n",
    "\n",
    "overlap"
   ]
  },
  {
   "cell_type": "markdown",
   "metadata": {},
   "source": [
    "## Second Question"
   ]
  },
  {
   "cell_type": "code",
   "execution_count": 17,
   "metadata": {},
   "outputs": [
    {
     "name": "stdout",
     "output_type": "stream",
     "text": [
      "909\n"
     ]
    }
   ],
   "source": [
    "for c in C:\n",
    "    overlaps = 0\n",
    "    for d in C:\n",
    "        if c!=d:\n",
    "            overlaps += len(c[5].intersection(d[5]))\n",
    "    if overlaps==0:\n",
    "        print(c[0])"
   ]
  },
  {
   "cell_type": "code",
   "execution_count": null,
   "metadata": {
    "collapsed": true
   },
   "outputs": [],
   "source": []
  }
 ],
 "metadata": {
  "kernelspec": {
   "display_name": "Python 3",
   "language": "python",
   "name": "python3"
  },
  "language_info": {
   "codemirror_mode": {
    "name": "ipython",
    "version": 3
   },
   "file_extension": ".py",
   "mimetype": "text/x-python",
   "name": "python",
   "nbconvert_exporter": "python",
   "pygments_lexer": "ipython3",
   "version": "3.6.7"
  }
 },
 "nbformat": 4,
 "nbformat_minor": 2
}
