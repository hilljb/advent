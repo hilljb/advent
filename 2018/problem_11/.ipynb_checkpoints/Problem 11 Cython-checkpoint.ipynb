{
 "cells": [
  {
   "cell_type": "code",
   "execution_count": 1,
   "metadata": {},
   "outputs": [],
   "source": [
    "%load_ext Cython"
   ]
  },
  {
   "cell_type": "code",
   "execution_count": 34,
   "metadata": {},
   "outputs": [
    {
     "name": "stdout",
     "output_type": "stream",
     "text": [
      "-3\n",
      "[-2, -2, -1, -1, -1]\n",
      "[-1, 0, 0, 1, 2]\n",
      "[0, 1, 2, 3, 4]\n",
      "[1, 2, 4, -5, -4]\n",
      "[3, 4, -5, -3, -2]\n",
      "9\n"
     ]
    }
   ],
   "source": [
    "%%cython\n",
    "\n",
    "from libc.stdlib cimport malloc, free\n",
    "\n",
    "\n",
    "# All array computations are zero-based behind the scenes\n",
    "# All array interfaces are one-based\n",
    "\n",
    "\n",
    "cpdef get_power_level(int x, int y, int serial):\n",
    "    \n",
    "    cdef long power\n",
    "    \n",
    "    power = (y*(x+10) + serial) * (x+10)\n",
    "    power = ((power%1000)-(power%100))//100 - 5\n",
    "    \n",
    "    return(power)\n",
    "\n",
    "\n",
    "cdef int **make_array(int m, int serial):\n",
    "    \"\"\"\n",
    "    Returns pointer to array of size 'm' using 'serial'.\n",
    "    \"\"\"\n",
    "    cdef int **M\n",
    "    cdef int i, j\n",
    "    \n",
    "    # Allocate the array\n",
    "    M = <int **> malloc(m*sizeof(int *))\n",
    "    for i in range(m):\n",
    "        M[i] = <int *> malloc(m*sizeof(int))\n",
    "        \n",
    "    # Set the array (remember the interface is one-based)\n",
    "    for i in range(m):\n",
    "        for j in range(m):\n",
    "            M[j][i] = get_power_level(i+1,j+1,serial)\n",
    "    \n",
    "    return(M)\n",
    "\n",
    "\n",
    "cdef int **make_sum_array(int **M, int m, int s):\n",
    "    \"\"\"\n",
    "    Make an array from sub-array sums from M. Sums are stored in\n",
    "    the top-left corner of sub-arrays of size 's'x's' from the\n",
    "    array 'M' of size 'm'x'm'. 'm' must be greater than 's'. The\n",
    "    returned array has size (1+'m'-'s')x(1+'m'-'s').\n",
    "    \"\"\"\n",
    "    cdef int **S\n",
    "    cdef int i, j, d, init_sum, iter_sum\n",
    "    \n",
    "    d = 1+m-s # How many times does a smaller square peg fit in a larger square hole\n",
    "    \n",
    "    # Allocate the array\n",
    "    S = <int **> malloc(d*sizeof(int *))\n",
    "    for i in range(d):\n",
    "        S[i] = <int *> malloc(d*sizeof(int))\n",
    "     \n",
    "    # Make the initial sum\n",
    "    init_sum = sum([sub_row_sum(M=M, y=i, min_x=1, max_x=s) for i in range(1,1+s)])\n",
    "    \n",
    "    # Set the array\n",
    "    for i in range(d):\n",
    "        \n",
    "        for j in range(d):\n",
    "            \n",
    "            \n",
    "            \n",
    "            S[j][i] = (i+1)+(j+1)\n",
    "            \n",
    "    return(S)\n",
    "\n",
    "\n",
    "cdef int sub_row_sum(int **M, int y, int min_x, int max_x):\n",
    "    \"\"\"\n",
    "    For row 'y' in 'M', get the sum of items 'min_x' to 'max_x'.\n",
    "    \n",
    "    Just used to speed up computations (O(n) instead of O(n^2)).\n",
    "    \"\"\"\n",
    "    cdef int s, i\n",
    "    \n",
    "    y -= 1\n",
    "    s = 0\n",
    "\n",
    "    for i in range(min_x-1, max_x):\n",
    "        s += M[y][i]\n",
    "\n",
    "    return(s)\n",
    "        \n",
    "    \n",
    "cdef int sub_col_sum(int **m, int x, int min_y, int max_y):\n",
    "    \"\"\"\n",
    "    For col 'x' in 'M', get the sum of items 'min_y' to 'max_y'.\n",
    "    \n",
    "    Just used to speed up computations (O(n) instead of O(n^2)).\n",
    "    \"\"\"\n",
    "    cdef int s, i\n",
    "    \n",
    "    x -= 1\n",
    "    s = 0\n",
    "    \n",
    "    for i in range(min_y-1, max_y):\n",
    "        s += M[i][x]\n",
    "        \n",
    "    return(s)\n",
    "\n",
    "\n",
    "cdef print_array(int **M, int min_x, int min_y, int max_x, int max_y):\n",
    "    \n",
    "    cdef int x, y\n",
    "    \n",
    "    for y in range(min_y-1,max_y):\n",
    "        print([M[y][x] for x in range(min_x-1,max_x)])\n",
    "      \n",
    "    \n",
    "\n",
    "\n",
    "\n",
    "    \n",
    "# Make the array and test ##################################################\n",
    "serial = 18\n",
    "cdef int **M = make_array(m=300,serial=serial)\n",
    "cdef int **S = make_sum_array(M, 300, 3)\n",
    "\n",
    "print_array(M, 1, 1, 5, 5)\n",
    "\n",
    "cdef int m = sub_row_sum(S, y=1, min_x=1, max_x=3)\n",
    "\n",
    "print(m)\n",
    "\n",
    "free(M)\n",
    "free(S)"
   ]
  },
  {
   "cell_type": "code",
   "execution_count": null,
   "metadata": {},
   "outputs": [],
   "source": [
    "get_power_level(101,153,71)"
   ]
  },
  {
   "cell_type": "code",
   "execution_count": null,
   "metadata": {},
   "outputs": [],
   "source": [
    "get_hundred(-2)"
   ]
  },
  {
   "cell_type": "code",
   "execution_count": null,
   "metadata": {
    "collapsed": true
   },
   "outputs": [],
   "source": [
    "a=1"
   ]
  },
  {
   "cell_type": "code",
   "execution_count": null,
   "metadata": {
    "collapsed": true
   },
   "outputs": [],
   "source": []
  }
 ],
 "metadata": {
  "kernelspec": {
   "display_name": "Python 3",
   "language": "python",
   "name": "python3"
  },
  "language_info": {
   "codemirror_mode": {
    "name": "ipython",
    "version": 3
   },
   "file_extension": ".py",
   "mimetype": "text/x-python",
   "name": "python",
   "nbconvert_exporter": "python",
   "pygments_lexer": "ipython3",
   "version": "3.6.7"
  }
 },
 "nbformat": 4,
 "nbformat_minor": 2
}
