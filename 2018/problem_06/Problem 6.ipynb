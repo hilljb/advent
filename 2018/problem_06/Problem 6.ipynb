{
 "cells": [
  {
   "cell_type": "markdown",
   "metadata": {},
   "source": [
    "## First Problem"
   ]
  },
  {
   "cell_type": "code",
   "execution_count": 1,
   "metadata": {
    "collapsed": true
   },
   "outputs": [],
   "source": [
    "fp = open('input.txt')\n",
    "\n",
    "coords, index = [], 1\n",
    "for line in fp:\n",
    "    this_coord = line.replace('\\n','').replace(' ','').split(',')\n",
    "    coords.append([index,(int(this_coord[0]),int(this_coord[1]))])\n",
    "    index += 1\n",
    "    \n",
    "max_x = max([c[1][0] for c in coords])\n",
    "max_y = max([c[1][1] for c in coords])\n",
    "\n",
    "Mat = [[0 for x in range(max_x+1)] for y in range(max_y+1)]\n",
    "\n",
    "for c in coords:\n",
    "    Mat[c[1][1]][c[1][0]] = c[0]\n",
    "    \n",
    "def find_neighbors(Mat,x,y,max_x,max_y):\n",
    "    neighbors = set([])\n",
    "    if x-1>=0 and Mat[y][x-1] not in [-1,0]:\n",
    "        neighbors.add(Mat[y][x-1])\n",
    "    if x+1<=max_x and Mat[y][x+1] not in [-1,0]:\n",
    "        neighbors.add(Mat[y][x+1])\n",
    "    if y-1>=0 and Mat[y-1][x] not in [-1,0]:\n",
    "        neighbors.add(Mat[y-1][x])\n",
    "    if y+1<=max_y and Mat[y+1][x] not in [-1,0]:\n",
    "        neighbors.add(Mat[y+1][x])\n",
    "    return(neighbors)\n",
    "\n",
    "def label_new_neighbors(Mat,coords,max_x,max_y):\n",
    "    NewMat = [[y for y in x] for x in Mat]\n",
    "    updates = 0\n",
    "    for x in range(max_x+1):\n",
    "        for y in range(max_y+1):\n",
    "            if Mat[y][x]==0:\n",
    "                N = find_neighbors(Mat,x,y,max_x,max_y)\n",
    "                if len(N)>1: # More than one neighbor\n",
    "                    NewMat[y][x]=-1\n",
    "                    updates += 1\n",
    "                if len(N)==1: # Exactly one nonzero neighbor\n",
    "                    NewMat[y][x]=list(N)[0]\n",
    "                    updates += 1\n",
    "    return([NewMat, updates])\n",
    "\n",
    "def get_edge_labels(Mat,max_x,max_y):\n",
    "    S = set([Mat[max_y][x] for x in range(max_x+1)])\n",
    "    S = S.union(set([Mat[0][x] for x in range(max_x+1)]))\n",
    "    S = S.union(set([Mat[y][0] for y in range(max_y+1)]))\n",
    "    S = S.union(set([Mat[y][max_x] for y in range(max_y+1)]))\n",
    "    S = S.difference(set([-1]))\n",
    "    return(S)\n",
    "\n",
    "def get_counts(Mat,max_x,max_y):\n",
    "    edges = get_edge_labels(Mat,max_x,max_y)\n",
    "    S = set([])\n",
    "    for x in Mat:\n",
    "        S = S.union(set(x))\n",
    "    S = S.difference(edges).difference(set([-1]))\n",
    "    count = {}\n",
    "    for s in S:\n",
    "        count[s]=0\n",
    "    for X in Mat:\n",
    "        for y in X:\n",
    "            if y in S:\n",
    "                count[y] += 1\n",
    "    return(count)"
   ]
  },
  {
   "cell_type": "code",
   "execution_count": 4,
   "metadata": {},
   "outputs": [],
   "source": [
    "updates = 1\n",
    "\n",
    "while updates > 0:\n",
    "    Mat,updates = label_new_neighbors(Mat,coords,max_x,max_y)"
   ]
  },
  {
   "cell_type": "code",
   "execution_count": 6,
   "metadata": {},
   "outputs": [
    {
     "data": {
      "text/plain": [
       "3989"
      ]
     },
     "execution_count": 6,
     "metadata": {},
     "output_type": "execute_result"
    }
   ],
   "source": [
    "D = get_counts(Mat,max_x,max_y)\n",
    "max([D[k] for k in D.keys()])"
   ]
  },
  {
   "cell_type": "markdown",
   "metadata": {},
   "source": [
    "## Part Two"
   ]
  },
  {
   "cell_type": "code",
   "execution_count": 7,
   "metadata": {
    "collapsed": true
   },
   "outputs": [],
   "source": [
    "def taxicab(p1,p2):\n",
    "    return(abs(p2[0]-p1[0])+abs(p2[1]-p1[1]))\n",
    "\n",
    "def all_distances(Mat,coords,max_x,max_y,max_allowed):\n",
    "    DistMat = [[0 for y in x] for x in Mat]\n",
    "    for x in range(max_x+1):\n",
    "        for y in range(max_y+1):\n",
    "            s = sum([taxicab((x,y),c[1]) for c in coords])\n",
    "            if s<max_allowed:\n",
    "                DistMat[y][x] = 1\n",
    "    return(DistMat)"
   ]
  },
  {
   "cell_type": "code",
   "execution_count": 8,
   "metadata": {
    "collapsed": true
   },
   "outputs": [],
   "source": [
    "DistMat = all_distances(Mat,coords,max_x,max_y,10000)"
   ]
  },
  {
   "cell_type": "code",
   "execution_count": 9,
   "metadata": {},
   "outputs": [
    {
     "data": {
      "text/plain": [
       "49715"
      ]
     },
     "execution_count": 9,
     "metadata": {},
     "output_type": "execute_result"
    }
   ],
   "source": [
    "sum([sum(x) for x in DistMat])"
   ]
  },
  {
   "cell_type": "code",
   "execution_count": null,
   "metadata": {
    "collapsed": true
   },
   "outputs": [],
   "source": []
  }
 ],
 "metadata": {
  "kernelspec": {
   "display_name": "Python 3",
   "language": "python",
   "name": "python3"
  },
  "language_info": {
   "codemirror_mode": {
    "name": "ipython",
    "version": 3
   },
   "file_extension": ".py",
   "mimetype": "text/x-python",
   "name": "python",
   "nbconvert_exporter": "python",
   "pygments_lexer": "ipython3",
   "version": "3.6.7"
  }
 },
 "nbformat": 4,
 "nbformat_minor": 2
}
