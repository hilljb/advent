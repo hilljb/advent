{
 "cells": [
  {
   "cell_type": "code",
   "execution_count": 222,
   "metadata": {},
   "outputs": [],
   "source": [
    "class Grid(object):\n",
    "    def __init__(self, init_str):\n",
    "        self.current_loc = [0,0]\n",
    "        self.D = {(0,0): set()}\n",
    "        \n",
    "        self.init_str = init_str\n",
    "        self.init_str = list(self.init_str.replace('^','').replace('$',''))\n",
    "        \n",
    "        # Hold the last location at each depth in the graph\n",
    "        self.loc_at_depth = [[0,0]]\n",
    "        self.current_depth = 0\n",
    "    \n",
    "    \n",
    "    def check_branch(self):\n",
    "        # Does the next move branch\n",
    "        if self.init_str[0]=='(':\n",
    "            p = self.init_str.pop(0)\n",
    "            self.current_depth += 1\n",
    "            if len(self.loc_at_depth) > self.current_depth:\n",
    "                self.loc_at_depth[self.current_depth] = [self.current_loc[0],self.current_loc[1]]\n",
    "            else:\n",
    "                self.loc_at_depth.append([self.current_loc[0],self.current_loc[1]])\n",
    "            #print('-- descending: depth=%s --> %s' % (self.current_depth, self.loc_at_depth))\n",
    "        elif self.init_str[0]==')':\n",
    "            p = self.init_str.pop(0)\n",
    "            self.current_loc = [self.loc_at_depth[self.current_depth][0], self.loc_at_depth[self.current_depth][1]]\n",
    "            self.current_depth -= 1\n",
    "            #print('-- ascending: depth=%s --> %s' % (self.current_depth, self.loc_at_depth))\n",
    "        elif self.init_str[0]=='|':\n",
    "            p = self.init_str.pop(0)\n",
    "            self.current_loc = [self.loc_at_depth[self.current_depth][0], self.loc_at_depth[self.current_depth][1]]\n",
    "            #print('-- pipe')\n",
    "        \n",
    "        \n",
    "    def parse_next(self):\n",
    "        \n",
    "        # Pop and add door\n",
    "        direction = self.init_str.pop(0)\n",
    "        self.D[tuple(self.current_loc)].add(direction)\n",
    "        \n",
    "        # Move (North is up, north adds 1 to y coordinate)\n",
    "        #print('-- direction %s at %s' % (direction, self.current_loc))\n",
    "        if direction=='N':\n",
    "            self.current_loc[1] += 1\n",
    "        elif direction=='E':\n",
    "            self.current_loc[0] += 1\n",
    "        elif direction=='S':\n",
    "            self.current_loc[1] -= 1\n",
    "        elif direction=='W':\n",
    "            self.current_loc[0] -= 1\n",
    "        \n",
    "            \n",
    "        # Make sure this room is in the dictionary\n",
    "        if not tuple(self.current_loc) in self.D.keys():\n",
    "            self.D[tuple(self.current_loc)] = set()\n",
    "        if direction=='N':\n",
    "            self.D[tuple(self.current_loc)].add('S')\n",
    "        if direction=='E':\n",
    "            self.D[tuple(self.current_loc)].add('W')\n",
    "        if direction=='S':\n",
    "            self.D[tuple(self.current_loc)].add('N')\n",
    "        if direction=='W':\n",
    "            self.D[tuple(self.current_loc)].add('E')\n",
    "    \n",
    "        \n",
    "    def run(self):\n",
    "        while len(self.init_str) > 0:\n",
    "            self.check_branch()\n",
    "            if len(self.init_str) > 0 and self.init_str[0] not in ['(',')','|']:\n",
    "                self.parse_next()\n",
    "                \n",
    "                \n",
    "    def max_doors(self):\n",
    "        # Solves problem 1\n",
    "        \n",
    "        # You could count the paths as you make them\n",
    "        # Instead, let's just start radiating out from the origin\n",
    "        doors = 0\n",
    "        rooms = set()\n",
    "        new_rooms = set()\n",
    "        new_rooms.add((0,0))\n",
    "        \n",
    "        while len(new_rooms) > 0:\n",
    "            \n",
    "            rooms = rooms.union(new_rooms)\n",
    "            R = list(new_rooms)\n",
    "            new_rooms = set()\n",
    "            #print(\"new rooms: %s\" % new_rooms)\n",
    "            \n",
    "            for r in R:\n",
    "                directions = self.D[r]\n",
    "                for d in directions:\n",
    "                    if d=='N':\n",
    "                        new_rooms.add((r[0],r[1]+1))\n",
    "                    elif d=='E':\n",
    "                        new_rooms.add((r[0]+1,r[1]))\n",
    "                    elif d=='S':\n",
    "                        new_rooms.add((r[0],r[1]-1))\n",
    "                    elif d=='W':\n",
    "                        new_rooms.add((r[0]-1,r[1]))\n",
    "                        \n",
    "            new_rooms = new_rooms.difference(rooms)\n",
    "            #print(\"new rooms: %s\" % new_rooms)  \n",
    "            \n",
    "            doors += 1\n",
    "            \n",
    "        return(doors-1)\n",
    "    \n",
    "    \n",
    "    def thousand_doors(self):\n",
    "        # Solves problem 2\n",
    "        \n",
    "        # You could count the paths as you make them\n",
    "        # Instead, let's just start radiating out from the origin\n",
    "        doors = 0\n",
    "        rooms = set()\n",
    "        new_rooms = set()\n",
    "        new_rooms.add((0,0))\n",
    "        min_1000_rooms = set()\n",
    "        \n",
    "        while len(new_rooms) > 0:\n",
    "            \n",
    "            rooms = rooms.union(new_rooms)\n",
    "            R = list(new_rooms)\n",
    "            new_rooms = set()\n",
    "            #print(\"new rooms: %s\" % new_rooms)\n",
    "            \n",
    "            for r in R:\n",
    "                directions = self.D[r]\n",
    "                for d in directions:\n",
    "                    if d=='N':\n",
    "                        new_rooms.add((r[0],r[1]+1))\n",
    "                    elif d=='E':\n",
    "                        new_rooms.add((r[0]+1,r[1]))\n",
    "                    elif d=='S':\n",
    "                        new_rooms.add((r[0],r[1]-1))\n",
    "                    elif d=='W':\n",
    "                        new_rooms.add((r[0]-1,r[1]))\n",
    "                        \n",
    "            new_rooms = new_rooms.difference(rooms)\n",
    "            #print(\"new rooms: %s\" % new_rooms)  \n",
    "            \n",
    "            doors += 1\n",
    "            \n",
    "            if doors >= 1000:\n",
    "                min_1000_rooms = min_1000_rooms.union(new_rooms)\n",
    "            \n",
    "        return(len(min_1000_rooms))\n"
   ]
  },
  {
   "cell_type": "code",
   "execution_count": 208,
   "metadata": {},
   "outputs": [],
   "source": [
    "G = Grid('^WSSEESWWWNW(S|NENNEEEENN(ESSSSW(NWSW|SSEN)|WSWWN(E|WWS(E|SS))))')"
   ]
  },
  {
   "cell_type": "code",
   "execution_count": 209,
   "metadata": {},
   "outputs": [],
   "source": [
    "G.run()"
   ]
  },
  {
   "cell_type": "code",
   "execution_count": 210,
   "metadata": {},
   "outputs": [
    {
     "data": {
      "text/plain": [
       "31"
      ]
     },
     "execution_count": 210,
     "metadata": {},
     "output_type": "execute_result"
    }
   ],
   "source": [
    "G.max_doors()"
   ]
  },
  {
   "cell_type": "code",
   "execution_count": 211,
   "metadata": {
    "collapsed": true
   },
   "outputs": [],
   "source": [
    "G = Grid('^ESSWWN(E|NNENN(EESS(WNSE|)SSS|WWWSSSSE(SW|NNNE)))')"
   ]
  },
  {
   "cell_type": "code",
   "execution_count": 212,
   "metadata": {
    "collapsed": true
   },
   "outputs": [],
   "source": [
    "G.run()"
   ]
  },
  {
   "cell_type": "code",
   "execution_count": 213,
   "metadata": {},
   "outputs": [
    {
     "data": {
      "text/plain": [
       "23"
      ]
     },
     "execution_count": 213,
     "metadata": {},
     "output_type": "execute_result"
    }
   ],
   "source": [
    "G.max_doors()"
   ]
  },
  {
   "cell_type": "markdown",
   "metadata": {},
   "source": [
    "## Part 1"
   ]
  },
  {
   "cell_type": "code",
   "execution_count": 223,
   "metadata": {
    "collapsed": true
   },
   "outputs": [],
   "source": [
    "fp = open('input.txt','r')\n",
    "\n",
    "s = ''.join([line.replace('\\n','') for line in fp])"
   ]
  },
  {
   "cell_type": "code",
   "execution_count": 224,
   "metadata": {},
   "outputs": [],
   "source": [
    "G = Grid(s)"
   ]
  },
  {
   "cell_type": "code",
   "execution_count": 225,
   "metadata": {
    "collapsed": true
   },
   "outputs": [],
   "source": [
    "G.run()"
   ]
  },
  {
   "cell_type": "code",
   "execution_count": 226,
   "metadata": {},
   "outputs": [
    {
     "data": {
      "text/plain": [
       "3465"
      ]
     },
     "execution_count": 226,
     "metadata": {},
     "output_type": "execute_result"
    }
   ],
   "source": [
    "G.max_doors()"
   ]
  },
  {
   "cell_type": "markdown",
   "metadata": {},
   "source": [
    "## Part 2"
   ]
  },
  {
   "cell_type": "code",
   "execution_count": 227,
   "metadata": {},
   "outputs": [
    {
     "data": {
      "text/plain": [
       "7956"
      ]
     },
     "execution_count": 227,
     "metadata": {},
     "output_type": "execute_result"
    }
   ],
   "source": [
    "G.thousand_doors()"
   ]
  },
  {
   "cell_type": "code",
   "execution_count": null,
   "metadata": {
    "collapsed": true
   },
   "outputs": [],
   "source": []
  }
 ],
 "metadata": {
  "kernelspec": {
   "display_name": "Python 3",
   "language": "python",
   "name": "python3"
  },
  "language_info": {
   "codemirror_mode": {
    "name": "ipython",
    "version": 3
   },
   "file_extension": ".py",
   "mimetype": "text/x-python",
   "name": "python",
   "nbconvert_exporter": "python",
   "pygments_lexer": "ipython3",
   "version": "3.6.7"
  }
 },
 "nbformat": 4,
 "nbformat_minor": 2
}
