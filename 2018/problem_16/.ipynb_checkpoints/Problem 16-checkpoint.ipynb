{
 "cells": [
  {
   "cell_type": "code",
   "execution_count": 10,
   "metadata": {
    "collapsed": true
   },
   "outputs": [],
   "source": [
    "fp = open('input.txt','r')\n",
    "\n",
    "before, output, after = [], [], []\n",
    "\n",
    "for line in fp:\n",
    "    line = line.replace('\\n','')\n",
    "    if 'Before' in line:\n",
    "        before.append(line)\n",
    "    elif 'After' in line:\n",
    "        after.append(line)\n",
    "    elif len(line) > 0:\n",
    "        output.append(line)\n",
    "        \n",
    "for i in range(len(before)):\n",
    "    before[i] = [int(n) for n in before[i].replace('Before: [','').replace(']','').split(',')]\n",
    "    after[i] = [int(n) for n in after[i].replace('After:  [','').replace(']','').split(',')]\n",
    "    output[i] = [int(n) for n in output[i].split(' ')]"
   ]
  },
  {
   "cell_type": "code",
   "execution_count": 11,
   "metadata": {
    "collapsed": true
   },
   "outputs": [],
   "source": [
    "def addr(register, a, b):\n",
    "    return(register[a]+register[b])\n",
    "\n",
    "def addi(register, a, b):\n",
    "    return(register[a]+b)\n",
    "\n",
    "def mulr(register, a, b):\n",
    "    return(register[a]*register[b])\n",
    "\n",
    "def muli(register, a, b):\n",
    "    return(register[a]*b)\n",
    "\n",
    "def banr(register, a, b):\n",
    "    return(register[a] & register[b])\n",
    "\n",
    "def bani(register, a, b):\n",
    "    return(register[a] & b)\n",
    "\n",
    "def borr(register, a, b):\n",
    "    return(register[a] | register[b])\n",
    "\n",
    "def bori(register, a, b):\n",
    "    return(register[a] | b)\n",
    "\n",
    "def setr(register, a, b):\n",
    "    return(register[a])\n",
    "\n",
    "def seti(register, a, b):\n",
    "    return(a)\n",
    "\n",
    "\n",
    "def gtir(register, a, b):\n",
    "    if a > register[b]:\n",
    "        return(1)\n",
    "    else:\n",
    "        return(0)\n",
    "    \n",
    "def gtri(register, a, b):\n",
    "    if register[a] > b:\n",
    "        return(1)\n",
    "    else:\n",
    "        return(0)\n",
    "    \n",
    "def gtrr(register, a, b):\n",
    "    if register[a] > register[b]:\n",
    "        return(1)\n",
    "    else:\n",
    "        return(0)\n",
    "    \n",
    "def eqir(register, a, b):\n",
    "    if a==register[b]:\n",
    "        return(1)\n",
    "    else:\n",
    "        return(0)\n",
    "    \n",
    "def eqri(register, a, b):\n",
    "    if register[a]==b:\n",
    "        return(1)\n",
    "    else:\n",
    "        return(0)\n",
    "    \n",
    "def eqrr(register, a, b):\n",
    "    if register[a]==register[b]:\n",
    "        return(1)\n",
    "    else:\n",
    "        return(0)"
   ]
  },
  {
   "cell_type": "code",
   "execution_count": 12,
   "metadata": {},
   "outputs": [
    {
     "name": "stdout",
     "output_type": "stream",
     "text": [
      "624\n"
     ]
    }
   ],
   "source": [
    "three_opcodes = 0\n",
    "\n",
    "for i in range(len(before)):\n",
    "\n",
    "    possible = 0\n",
    "    \n",
    "    register = before[i]\n",
    "    result = after[i]\n",
    "    \n",
    "    opcode = output[i][0]\n",
    "    a = output[i][1]\n",
    "    b = output[i][2]\n",
    "    c = output[i][3]\n",
    "    \n",
    "    if result[c]==addr(register,a,b):\n",
    "        possible += 1\n",
    "    if result[c]==muli(register,a,b):\n",
    "        possible += 1\n",
    "    \n",
    "    if result[c]==mulr(register,a,b):\n",
    "        possible += 1\n",
    "    if result[c]==muli(register,a,b):\n",
    "        possible += 1\n",
    "\n",
    "    if result[c]==banr(register,a,b):\n",
    "        possible += 1\n",
    "    if result[c]==bani(register,a,b):\n",
    "        possible += 1\n",
    "        \n",
    "    if result[c]==borr(register,a,b):\n",
    "        possible += 1\n",
    "    if result[c]==bori(register,a,b):\n",
    "        possible += 1\n",
    "        \n",
    "    if result[c]==setr(register,a,b):\n",
    "        possible += 1\n",
    "    if result[c]==seti(register,a,b):\n",
    "        possible += 1\n",
    "        \n",
    "    if result[c]==gtir(register,a,b):\n",
    "        possible += 1\n",
    "    if result[c]==gtri(register,a,b):\n",
    "        possible += 1\n",
    "    if result[c]==gtrr(register,a,b):\n",
    "        possible += 1\n",
    "    \n",
    "    if result[c]==eqir(register,a,b):\n",
    "        possible += 1\n",
    "    if result[c]==eqri(register,a,b):\n",
    "        possible += 1\n",
    "    if result[c]==eqrr(register,a,b):\n",
    "        possible += 1\n",
    "        \n",
    "    if possible >= 3:\n",
    "        three_opcodes += 1\n",
    "        \n",
    "print(three_opcodes)"
   ]
  },
  {
   "cell_type": "code",
   "execution_count": 13,
   "metadata": {},
   "outputs": [],
   "source": [
    "fp = open('test_input.txt','r')\n",
    "\n",
    "T = []\n",
    "\n",
    "for line in fp:\n",
    "    T.append([int(n) for n in line.replace('\\n','').split(' ')])"
   ]
  },
  {
   "cell_type": "code",
   "execution_count": 14,
   "metadata": {},
   "outputs": [
    {
     "data": {
      "text/plain": [
       "938"
      ]
     },
     "execution_count": 14,
     "metadata": {},
     "output_type": "execute_result"
    }
   ],
   "source": [
    "len(T)"
   ]
  },
  {
   "cell_type": "code",
   "execution_count": 15,
   "metadata": {},
   "outputs": [
    {
     "name": "stdout",
     "output_type": "stream",
     "text": [
      "[584, 4, 3, 584]\n"
     ]
    }
   ],
   "source": [
    "registers = [0,0,0,0]\n",
    "\n",
    "for i in range(len(T)):\n",
    "    \n",
    "    test_cycle = T[i]\n",
    "    \n",
    "    opcode = test_cycle[0]\n",
    "    a = test_cycle[1]\n",
    "    b = test_cycle[2]\n",
    "    c = test_cycle[3]\n",
    "    \n",
    "    if opcode==0:\n",
    "        result = muli(registers, a, b)\n",
    "    elif opcode==1:\n",
    "        result = seti(registers, a, b)\n",
    "    elif opcode==2:\n",
    "        result = bani(registers, a, b)\n",
    "    elif opcode==3:\n",
    "        result = gtri(registers, a, b)\n",
    "    elif opcode==4:\n",
    "        result = gtrr(registers, a, b)\n",
    "    elif opcode==5:\n",
    "        result = eqrr(registers, a, b)\n",
    "    elif opcode==6:\n",
    "        result = addi(registers, a, b)\n",
    "    elif opcode==7:\n",
    "        result = gtir(registers, a, b)\n",
    "    elif opcode==8:\n",
    "        result = eqir(registers, a, b)\n",
    "    elif opcode==9:\n",
    "        result = mulr(registers, a, b)\n",
    "    elif opcode==10:\n",
    "        result = addr(registers, a, b)\n",
    "    elif opcode==11:\n",
    "        result = borr(registers, a, b)\n",
    "    elif opcode==12:\n",
    "        result = bori(registers, a, b)\n",
    "    elif opcode==13:\n",
    "        result = eqri(registers, a, b)\n",
    "    elif opcode==14:\n",
    "        result = banr(registers, a, b)\n",
    "    elif opcode==15:\n",
    "        result = setr(registers, a, b)\n",
    "        \n",
    "    registers[c] = result\n",
    "    \n",
    "print(registers)"
   ]
  },
  {
   "cell_type": "markdown",
   "metadata": {
    "collapsed": true
   },
   "source": [
    "The answer is 584"
   ]
  },
  {
   "cell_type": "code",
   "execution_count": null,
   "metadata": {
    "collapsed": true
   },
   "outputs": [],
   "source": []
  }
 ],
 "metadata": {
  "kernelspec": {
   "display_name": "Python 3",
   "language": "python",
   "name": "python3"
  },
  "language_info": {
   "codemirror_mode": {
    "name": "ipython",
    "version": 3
   },
   "file_extension": ".py",
   "mimetype": "text/x-python",
   "name": "python",
   "nbconvert_exporter": "python",
   "pygments_lexer": "ipython3",
   "version": "3.6.7"
  }
 },
 "nbformat": 4,
 "nbformat_minor": 2
}
