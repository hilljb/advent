{
 "cells": [
  {
   "cell_type": "markdown",
   "metadata": {},
   "source": [
    "## ETL\n",
    "The most annoying part of this problem is extracting and ordering the data. Let's just get it over with."
   ]
  },
  {
   "cell_type": "code",
   "execution_count": 10,
   "metadata": {},
   "outputs": [],
   "source": [
    "fp = open('input.txt','r')\n",
    "\n",
    "L = []\n",
    "for line in fp:\n",
    "    L.append(line.strip('\\n'))\n",
    "\n",
    "# It's out of order. (The first item is a \"wakes up\".)\n",
    "L.sort()\n",
    "\n",
    "# Make a coherent record of all of the shifts in string form with id and times (e.g., '2207s09w26s42w58')\n",
    "\n",
    "i,j = 0,-1\n",
    "records = [0 for k in range(len(L))] # Make a list of sleep/wake actions\n",
    "while i < len(L):\n",
    "    if \"begins shift\" in L[i]:\n",
    "        j += 1 # start a new guard/sleep/wake record\n",
    "        gn = L[i].split('#')[1].split(' ')[0] # get guard num\n",
    "        records[j] = gn # store guard num\n",
    "    if \"falls asleep\" in L[i]:\n",
    "        time = L[i].split(':')[1].split(']')[0] # get sleep time\n",
    "        records[j] += 's'+time # store sleep time\n",
    "    if \"wakes up\" in L[i]:\n",
    "        time = L[i].split(':')[1].split(']')[0] # get wake time\n",
    "        records[j] += 'w'+time # store wake time\n",
    "    i += 1\n",
    "\n",
    "records = [r for r in records if r!=0] # compact the list\n",
    "\n",
    "# Store a dictionary of which minutes are slept by each guard\n",
    "sleeps = {}\n",
    "\n",
    "for r in records:\n",
    "    guard = r.split('s')[0] # Get the guard id\n",
    "    if guard in sleeps.keys():\n",
    "        pass\n",
    "    else:\n",
    "        sleeps[guard] = [0 for i in range(60)] # initialize this guard's sleeping minutes\n",
    "    for sleep in r.split('s')[1:]: # Split into sleeping blocks\n",
    "        start = int(sleep.split('w')[0]) # when does this sleep start\n",
    "        end = int(sleep.split('w')[1]) # when does this eleep end\n",
    "        # Add this sleep to this guard's sleeping minutes\n",
    "        for i in range(start, end):\n",
    "            sleeps[guard][i] += 1"
   ]
  },
  {
   "cell_type": "code",
   "execution_count": 11,
   "metadata": {},
   "outputs": [
    {
     "data": {
      "text/plain": [
       "[1, 1, 1, 1, 0, 0, 1, 2, 2, 2]"
      ]
     },
     "execution_count": 11,
     "metadata": {},
     "output_type": "execute_result"
    }
   ],
   "source": [
    "# How often is 1301 sleeping at a given minute? Print first 10 minutes\n",
    "sleeps['1301'][:10]"
   ]
  },
  {
   "cell_type": "markdown",
   "metadata": {},
   "source": [
    "## Part 1"
   ]
  },
  {
   "cell_type": "code",
   "execution_count": 14,
   "metadata": {},
   "outputs": [
    {
     "data": {
      "text/plain": [
       "119835"
      ]
     },
     "execution_count": 14,
     "metadata": {},
     "output_type": "execute_result"
    }
   ],
   "source": [
    "k,v,m = 0,0,0\n",
    "for key in sleeps.keys():\n",
    "    s = sum(sleeps[key])\n",
    "    if s > m:\n",
    "        k,v,m = int(key),sleeps[key].index(max(sleeps[key])),s\n",
    "k*v"
   ]
  },
  {
   "cell_type": "markdown",
   "metadata": {},
   "source": [
    "## Part 2"
   ]
  },
  {
   "cell_type": "code",
   "execution_count": 15,
   "metadata": {},
   "outputs": [
    {
     "data": {
      "text/plain": [
       "12725"
      ]
     },
     "execution_count": 15,
     "metadata": {},
     "output_type": "execute_result"
    }
   ],
   "source": [
    "k,v,m = 0,0,0\n",
    "for key in sleeps.keys():\n",
    "    s = max(sleeps[key])\n",
    "    if s > m:\n",
    "        k,v,m = int(key),sleeps[key].index(max(sleeps[key])),s\n",
    "k*v"
   ]
  },
  {
   "cell_type": "code",
   "execution_count": null,
   "metadata": {
    "collapsed": true
   },
   "outputs": [],
   "source": []
  }
 ],
 "metadata": {
  "kernelspec": {
   "display_name": "Python 3",
   "language": "python",
   "name": "python3"
  },
  "language_info": {
   "codemirror_mode": {
    "name": "ipython",
    "version": 3
   },
   "file_extension": ".py",
   "mimetype": "text/x-python",
   "name": "python",
   "nbconvert_exporter": "python",
   "pygments_lexer": "ipython3",
   "version": "3.6.7"
  }
 },
 "nbformat": 4,
 "nbformat_minor": 2
}
