{
 "cells": [
  {
   "cell_type": "code",
   "execution_count": 1,
   "metadata": {
    "collapsed": true
   },
   "outputs": [],
   "source": [
    "fp = open('input.txt','r')\n",
    "\n",
    "L = []\n",
    "\n",
    "for line in fp:\n",
    "    L.append(line.replace('\\n',''))\n",
    "    \n",
    "# reverse it\n",
    "S = [int(i) for i in L[0].split(' ')]\n",
    "S.reverse()"
   ]
  },
  {
   "cell_type": "code",
   "execution_count": 2,
   "metadata": {
    "collapsed": true
   },
   "outputs": [],
   "source": [
    "def recursive_meta(tree):\n",
    "    \n",
    "    # How many children\n",
    "    children = tree.pop()\n",
    "    # How many metadata entries\n",
    "    metadata = tree.pop()\n",
    "    \n",
    "    # Process all children\n",
    "    sum_meta = sum([recursive_meta(tree) for i in range(children)])\n",
    "    \n",
    "    # Get this meta sum\n",
    "    this_meta = sum([tree.pop() for i in range(metadata)])\n",
    "    \n",
    "    return(sum_meta+this_meta)"
   ]
  },
  {
   "cell_type": "code",
   "execution_count": 3,
   "metadata": {},
   "outputs": [
    {
     "data": {
      "text/plain": [
       "44838"
      ]
     },
     "execution_count": 3,
     "metadata": {},
     "output_type": "execute_result"
    }
   ],
   "source": [
    "recursive_meta(S)"
   ]
  },
  {
   "cell_type": "markdown",
   "metadata": {},
   "source": [
    "## Part 2"
   ]
  },
  {
   "cell_type": "code",
   "execution_count": 4,
   "metadata": {
    "collapsed": true
   },
   "outputs": [],
   "source": [
    "fp = open('input.txt','r')\n",
    "\n",
    "L = []\n",
    "\n",
    "for line in fp:\n",
    "    L.append(line.replace('\\n',''))\n",
    "    \n",
    "# reverse it\n",
    "S = [int(i) for i in L[0].split(' ')]\n",
    "S.reverse()"
   ]
  },
  {
   "cell_type": "code",
   "execution_count": 5,
   "metadata": {
    "collapsed": true
   },
   "outputs": [],
   "source": [
    "def recursive_meta(tree):\n",
    "    \n",
    "    # How many children\n",
    "    children = tree.pop()\n",
    "    # How many metadata entries\n",
    "    metadata = tree.pop()\n",
    "    \n",
    "    # Process all children\n",
    "    child_values = [recursive_meta(tree) for i in range(children)]\n",
    "    \n",
    "    # Get this meta sum\n",
    "    if children==0:\n",
    "        this_meta = sum([tree.pop() for i in range(metadata)])\n",
    "    else:\n",
    "        pop = [tree.pop()-1 for i in range(metadata)]\n",
    "        pop = [p for p in pop if p < len(child_values)]\n",
    "        this_meta = sum([child_values[p] for p in pop])\n",
    "    \n",
    "    return(this_meta)"
   ]
  },
  {
   "cell_type": "code",
   "execution_count": 6,
   "metadata": {},
   "outputs": [
    {
     "data": {
      "text/plain": [
       "22198"
      ]
     },
     "execution_count": 6,
     "metadata": {},
     "output_type": "execute_result"
    }
   ],
   "source": [
    "recursive_meta(S)"
   ]
  },
  {
   "cell_type": "code",
   "execution_count": null,
   "metadata": {
    "collapsed": true
   },
   "outputs": [],
   "source": []
  }
 ],
 "metadata": {
  "kernelspec": {
   "display_name": "Python 3",
   "language": "python",
   "name": "python3"
  },
  "language_info": {
   "codemirror_mode": {
    "name": "ipython",
    "version": 3
   },
   "file_extension": ".py",
   "mimetype": "text/x-python",
   "name": "python",
   "nbconvert_exporter": "python",
   "pygments_lexer": "ipython3",
   "version": "3.6.7"
  }
 },
 "nbformat": 4,
 "nbformat_minor": 2
}
