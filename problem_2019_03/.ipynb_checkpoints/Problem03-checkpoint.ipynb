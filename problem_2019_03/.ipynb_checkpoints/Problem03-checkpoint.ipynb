{
 "cells": [
  {
   "cell_type": "code",
   "execution_count": 1,
   "metadata": {},
   "outputs": [],
   "source": [
    "import time"
   ]
  },
  {
   "cell_type": "markdown",
   "metadata": {},
   "source": [
    "## Read in Data"
   ]
  },
  {
   "cell_type": "code",
   "execution_count": 2,
   "metadata": {},
   "outputs": [],
   "source": [
    "filename = 'test01.txt'\n",
    "\n",
    "wires = []\n",
    "\n",
    "f_p = open(filename,'r')\n",
    "for line in f_p:\n",
    "    wires.append(line.replace('\\n',''))\n",
    "f_p.close()"
   ]
  },
  {
   "cell_type": "code",
   "execution_count": 3,
   "metadata": {},
   "outputs": [],
   "source": [
    "filename = 'data.txt'\n",
    "\n",
    "wires = []\n",
    "\n",
    "f_p = open(filename,'r')\n",
    "for line in f_p:\n",
    "    wires.append(line.replace('\\n',''))\n",
    "f_p.close()"
   ]
  },
  {
   "cell_type": "markdown",
   "metadata": {},
   "source": [
    "## First Part"
   ]
  },
  {
   "cell_type": "code",
   "execution_count": 4,
   "metadata": {},
   "outputs": [],
   "source": [
    "def points(path):\n",
    "    pnts=[(0,0)]\n",
    "    path=path.split(',')\n",
    "    \n",
    "    for walk in path:\n",
    "        if 'R' in walk:\n",
    "            walk=int(walk.replace('R',''))\n",
    "            for i in range(walk):\n",
    "                pnts.append((pnts[-1][0]+1,pnts[-1][1]))\n",
    "        elif 'L' in walk:\n",
    "            walk=int(walk.replace('L',''))\n",
    "            for i in range(walk):\n",
    "                pnts.append((pnts[-1][0]-1,pnts[-1][1]))\n",
    "        elif 'U' in walk:\n",
    "            walk=int(walk.replace('U',''))\n",
    "            for i in range(walk):\n",
    "                pnts.append((pnts[-1][0],pnts[-1][1]+1))\n",
    "        elif 'D' in walk:\n",
    "            walk=int(walk.replace('D',''))\n",
    "            for i in range(walk):\n",
    "                pnts.append((pnts[-1][0],pnts[-1][1]-1))\n",
    "    \n",
    "    return(set(pnts))\n",
    "\n",
    "def get_intersections(wires):\n",
    "    \n",
    "    pnts_0 = points(wires[0])\n",
    "    pnts_1 = points(wires[1])\n",
    "    \n",
    "    pnts = pnts_0.intersection(pnts_1)\n",
    "    \n",
    "    return(pnts)\n",
    "\n",
    "def manhattan_distance(pnt):\n",
    "    \n",
    "    return(abs(pnt[0])+abs(pnt[1]))"
   ]
  },
  {
   "cell_type": "code",
   "execution_count": 5,
   "metadata": {},
   "outputs": [
    {
     "name": "stdout",
     "output_type": "stream",
     "text": [
      "446 in 0.163364 seconds\n"
     ]
    }
   ],
   "source": [
    "start_time = time.time()\n",
    "\n",
    "dists = [manhattan_distance(pnt) for pnt in get_intersections(wires)]\n",
    "\n",
    "dists.sort()\n",
    "\n",
    "elapsed_time = time.time()-start_time\n",
    "\n",
    "print(\"%s in %f seconds\" % (dists[1], elapsed_time))"
   ]
  },
  {
   "cell_type": "markdown",
   "metadata": {},
   "source": [
    "## Part Two"
   ]
  },
  {
   "cell_type": "code",
   "execution_count": 6,
   "metadata": {},
   "outputs": [],
   "source": [
    "def points_list(path):\n",
    "    \"\"\"\n",
    "    Pretty much the same as before, but make a list of all visited locations.\n",
    "    \"\"\"\n",
    "    pnts=[(0,0)]\n",
    "    path=path.split(',')\n",
    "    \n",
    "    for walk in path:\n",
    "        if 'R' in walk:\n",
    "            walk=int(walk.replace('R',''))\n",
    "            for i in range(walk):\n",
    "                pnts.append((pnts[-1][0]+1,pnts[-1][1]))\n",
    "        elif 'L' in walk:\n",
    "            walk=int(walk.replace('L',''))\n",
    "            for i in range(walk):\n",
    "                pnts.append((pnts[-1][0]-1,pnts[-1][1]))\n",
    "        elif 'U' in walk:\n",
    "            walk=int(walk.replace('U',''))\n",
    "            for i in range(walk):\n",
    "                pnts.append((pnts[-1][0],pnts[-1][1]+1))\n",
    "        elif 'D' in walk:\n",
    "            walk=int(walk.replace('D',''))\n",
    "            for i in range(walk):\n",
    "                pnts.append((pnts[-1][0],pnts[-1][1]-1))\n",
    "    \n",
    "    return(pnts)"
   ]
  },
  {
   "cell_type": "code",
   "execution_count": 7,
   "metadata": {},
   "outputs": [
    {
     "name": "stdout",
     "output_type": "stream",
     "text": [
      "9006 in 0.137395 seconds\n"
     ]
    }
   ],
   "source": [
    "start_time = time.time()\n",
    "\n",
    "path_0 = points_list(wires[0])\n",
    "path_1 = points_list(wires[1])\n",
    "\n",
    "intersections = set(path_0).intersection(set(path_1))\n",
    "\n",
    "dists = []\n",
    "\n",
    "for pnt in intersections:\n",
    "    dist_0 = path_0.index(pnt)\n",
    "    dist_1 = path_1.index(pnt)\n",
    "    \n",
    "    dists.append(dist_0 + dist_1)\n",
    "    \n",
    "    dists.sort()\n",
    "    \n",
    "elapsed_time = time.time()-start_time \n",
    "    \n",
    "print(\"%s in %f seconds\" % (dists[1], elapsed_time))"
   ]
  },
  {
   "cell_type": "code",
   "execution_count": null,
   "metadata": {},
   "outputs": [],
   "source": []
  }
 ],
 "metadata": {
  "kernelspec": {
   "display_name": "Python 3",
   "language": "python",
   "name": "python3"
  },
  "language_info": {
   "codemirror_mode": {
    "name": "ipython",
    "version": 3
   },
   "file_extension": ".py",
   "mimetype": "text/x-python",
   "name": "python",
   "nbconvert_exporter": "python",
   "pygments_lexer": "ipython3",
   "version": "3.7.3"
  }
 },
 "nbformat": 4,
 "nbformat_minor": 2
}
