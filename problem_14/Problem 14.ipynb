{
 "cells": [
  {
   "cell_type": "markdown",
   "metadata": {
    "collapsed": true
   },
   "source": [
    "## Testing\n",
    "\n",
    "This is fairly straightforward. I'm going to encode this as a class to avoid passing lists around."
   ]
  },
  {
   "cell_type": "code",
   "execution_count": 81,
   "metadata": {
    "collapsed": true
   },
   "outputs": [],
   "source": [
    "%load_ext Cython"
   ]
  },
  {
   "cell_type": "code",
   "execution_count": 67,
   "metadata": {},
   "outputs": [],
   "source": [
    "class scores(object):\n",
    "    def __init__(self, elf_one_score=3, elf_two_score=7):\n",
    "        self.elf_one_loc = 0\n",
    "        self.elf_two_loc = 1\n",
    "        self.scores = [elf_one_score, elf_two_score]\n",
    "        \n",
    "    def __str__(self):\n",
    "        S = [s for s in self.scores]\n",
    "        S[self.elf_one_loc] = '('+str(self.scores[self.elf_one_loc])+')'\n",
    "        S[self.elf_two_loc] = '['+str(self.scores[self.elf_two_loc])+']'\n",
    "        return(str(self.round).ljust(3)+': '+''.join([str(s).ljust(3) for s in S]))\n",
    "    \n",
    "    def update(self):\n",
    "        # Add the scores\n",
    "        new_score = self.scores[self.elf_one_loc] + self.scores[self.elf_two_loc]\n",
    "        for i in [int(s) for s in list(str(new_score))]:\n",
    "            self.scores.append(i)\n",
    "        # Move the elves\n",
    "        self.elf_one_loc = (self.elf_one_loc + self.scores[self.elf_one_loc] + 1) % len(self.scores)\n",
    "        self.elf_two_loc = (self.elf_two_loc + self.scores[self.elf_two_loc] + 1) % len(self.scores)\n",
    "        \n",
    "    def run(self, r):\n",
    "        for i in range(r):\n",
    "            self.update()"
   ]
  },
  {
   "cell_type": "code",
   "execution_count": 68,
   "metadata": {},
   "outputs": [],
   "source": [
    "S = scores()\n",
    "S.run(r=2100)"
   ]
  },
  {
   "cell_type": "code",
   "execution_count": 69,
   "metadata": {},
   "outputs": [
    {
     "data": {
      "text/plain": [
       "[5, 1, 5, 8, 9, 1, 6, 7, 7, 9]"
      ]
     },
     "execution_count": 69,
     "metadata": {},
     "output_type": "execute_result"
    }
   ],
   "source": [
    "S.scores[9:19]"
   ]
  },
  {
   "cell_type": "code",
   "execution_count": 70,
   "metadata": {},
   "outputs": [
    {
     "data": {
      "text/plain": [
       "[0, 1, 2, 4, 5, 1, 5, 8, 9, 1]"
      ]
     },
     "execution_count": 70,
     "metadata": {},
     "output_type": "execute_result"
    }
   ],
   "source": [
    "S.scores[5:15]"
   ]
  },
  {
   "cell_type": "code",
   "execution_count": 71,
   "metadata": {},
   "outputs": [
    {
     "data": {
      "text/plain": [
       "[5, 9, 4, 1, 4, 2, 9, 8, 8, 2]"
      ]
     },
     "execution_count": 71,
     "metadata": {},
     "output_type": "execute_result"
    }
   ],
   "source": [
    "S.scores[2018:2028]"
   ]
  },
  {
   "cell_type": "markdown",
   "metadata": {},
   "source": [
    "## Problem 1"
   ]
  },
  {
   "cell_type": "code",
   "execution_count": 82,
   "metadata": {},
   "outputs": [
    {
     "name": "stdout",
     "output_type": "stream",
     "text": [
      "1617111014\n",
      "0.689517s\n"
     ]
    }
   ],
   "source": [
    "%%cython\n",
    "\n",
    "import time\n",
    "\n",
    "class scores(object):\n",
    "    def __init__(self, elf_one_score=3, elf_two_score=7):\n",
    "        self.elf_one_loc = 0\n",
    "        self.elf_two_loc = 1\n",
    "        self.scores = [elf_one_score, elf_two_score]\n",
    "        \n",
    "    def __str__(self):\n",
    "        S = [s for s in self.scores]\n",
    "        S[self.elf_one_loc] = '('+str(self.scores[self.elf_one_loc])+')'\n",
    "        S[self.elf_two_loc] = '['+str(self.scores[self.elf_two_loc])+']'\n",
    "        return(str(self.round).ljust(3)+': '+''.join([str(s).ljust(3) for s in S]))\n",
    "    \n",
    "    def update(self):\n",
    "        # Add the scores\n",
    "        new_score = self.scores[self.elf_one_loc] + self.scores[self.elf_two_loc]\n",
    "        for i in [int(s) for s in list(str(new_score))]:\n",
    "            self.scores.append(i)\n",
    "        # Move the elves\n",
    "        self.elf_one_loc = (self.elf_one_loc + self.scores[self.elf_one_loc] + 1) % len(self.scores)\n",
    "        self.elf_two_loc = (self.elf_two_loc + self.scores[self.elf_two_loc] + 1) % len(self.scores)\n",
    "        \n",
    "    def run(self, r):\n",
    "        for i in range(r):\n",
    "            self.update()\n",
    "\n",
    "\n",
    "\n",
    "\n",
    "\n",
    "start_time = time.time()\n",
    "\n",
    "S = scores()\n",
    "S.run(r=681931)\n",
    "\n",
    "print(''.join([str(s) for s in S.scores[681901:681911]]))\n",
    "\n",
    "elapsed_time = time.time() - start_time\n",
    "\n",
    "print(\"%fs\" % elapsed_time)"
   ]
  },
  {
   "cell_type": "markdown",
   "metadata": {},
   "source": [
    "## Problem 2"
   ]
  },
  {
   "cell_type": "code",
   "execution_count": 55,
   "metadata": {},
   "outputs": [],
   "source": [
    "T = ''.join([str(s) for s in S.scores])"
   ]
  },
  {
   "cell_type": "code",
   "execution_count": 56,
   "metadata": {},
   "outputs": [
    {
     "data": {
      "text/plain": [
       "9"
      ]
     },
     "execution_count": 56,
     "metadata": {},
     "output_type": "execute_result"
    }
   ],
   "source": [
    "T.index('51589')"
   ]
  },
  {
   "cell_type": "code",
   "execution_count": 57,
   "metadata": {},
   "outputs": [
    {
     "data": {
      "text/plain": [
       "5"
      ]
     },
     "execution_count": 57,
     "metadata": {},
     "output_type": "execute_result"
    }
   ],
   "source": [
    "T.index('01245')"
   ]
  },
  {
   "cell_type": "code",
   "execution_count": 58,
   "metadata": {},
   "outputs": [
    {
     "data": {
      "text/plain": [
       "18"
      ]
     },
     "execution_count": 58,
     "metadata": {},
     "output_type": "execute_result"
    }
   ],
   "source": [
    "T.index('92510')"
   ]
  },
  {
   "cell_type": "code",
   "execution_count": 59,
   "metadata": {},
   "outputs": [
    {
     "data": {
      "text/plain": [
       "2018"
      ]
     },
     "execution_count": 59,
     "metadata": {},
     "output_type": "execute_result"
    }
   ],
   "source": [
    "T.index('59414')"
   ]
  },
  {
   "cell_type": "code",
   "execution_count": 60,
   "metadata": {},
   "outputs": [
    {
     "ename": "ValueError",
     "evalue": "substring not found",
     "output_type": "error",
     "traceback": [
      "\u001b[0;31m---------------------------------------------------------------------------\u001b[0m",
      "\u001b[0;31mValueError\u001b[0m                                Traceback (most recent call last)",
      "\u001b[0;32m<ipython-input-60-23848fe203f2>\u001b[0m in \u001b[0;36m<module>\u001b[0;34m()\u001b[0m\n\u001b[0;32m----> 1\u001b[0;31m \u001b[0mT\u001b[0m\u001b[0;34m.\u001b[0m\u001b[0mindex\u001b[0m\u001b[0;34m(\u001b[0m\u001b[0;34m'681901'\u001b[0m\u001b[0;34m)\u001b[0m\u001b[0;34m\u001b[0m\u001b[0;34m\u001b[0m\u001b[0m\n\u001b[0m",
      "\u001b[0;31mValueError\u001b[0m: substring not found"
     ]
    }
   ],
   "source": [
    "T.index('681901')"
   ]
  },
  {
   "cell_type": "markdown",
   "metadata": {},
   "source": [
    "Luckily, I wrote the class so that it can be updated by more run commands. So, I'll just do that until I find the string I'm looking for. If this doesn't work within the time it takes me to move my truck and check the mail, we'll look for a more efficient approach."
   ]
  },
  {
   "cell_type": "code",
   "execution_count": 83,
   "metadata": {},
   "outputs": [
    {
     "name": "stdout",
     "output_type": "stream",
     "text": [
      "20321495\n",
      "322.300414s\n"
     ]
    }
   ],
   "source": [
    "%%cython\n",
    "\n",
    "import time\n",
    "\n",
    "class scores(object):\n",
    "    def __init__(self, elf_one_score=3, elf_two_score=7):\n",
    "        self.elf_one_loc = 0\n",
    "        self.elf_two_loc = 1\n",
    "        self.scores = [elf_one_score, elf_two_score]\n",
    "        \n",
    "    def __str__(self):\n",
    "        S = [s for s in self.scores]\n",
    "        S[self.elf_one_loc] = '('+str(self.scores[self.elf_one_loc])+')'\n",
    "        S[self.elf_two_loc] = '['+str(self.scores[self.elf_two_loc])+']'\n",
    "        return(str(self.round).ljust(3)+': '+''.join([str(s).ljust(3) for s in S]))\n",
    "    \n",
    "    def update(self):\n",
    "        # Add the scores\n",
    "        new_score = self.scores[self.elf_one_loc] + self.scores[self.elf_two_loc]\n",
    "        for i in [int(s) for s in list(str(new_score))]:\n",
    "            self.scores.append(i)\n",
    "        # Move the elves\n",
    "        self.elf_one_loc = (self.elf_one_loc + self.scores[self.elf_one_loc] + 1) % len(self.scores)\n",
    "        self.elf_two_loc = (self.elf_two_loc + self.scores[self.elf_two_loc] + 1) % len(self.scores)\n",
    "        \n",
    "    def run(self, r):\n",
    "        for i in range(r):\n",
    "            self.update()\n",
    "\n",
    "\n",
    "\n",
    "\n",
    "\n",
    "start_time = time.time()\n",
    "\n",
    "S = scores()\n",
    "S.run(r=100000)\n",
    "\n",
    "while '681901' not in ''.join([str(s) for s in S.scores]):\n",
    "    S.run(r=100000)\n",
    "\n",
    "    \n",
    "T = ''.join([str(s) for s in S.scores])    \n",
    "print(T.index('681901')) \n",
    "    \n",
    "elapsed_time = time.time() - start_time\n",
    "\n",
    "print(\"%fs\" % elapsed_time)"
   ]
  },
  {
   "cell_type": "code",
   "execution_count": null,
   "metadata": {
    "collapsed": true
   },
   "outputs": [],
   "source": []
  }
 ],
 "metadata": {
  "kernelspec": {
   "display_name": "Python 3",
   "language": "python",
   "name": "python3"
  },
  "language_info": {
   "codemirror_mode": {
    "name": "ipython",
    "version": 3
   },
   "file_extension": ".py",
   "mimetype": "text/x-python",
   "name": "python",
   "nbconvert_exporter": "python",
   "pygments_lexer": "ipython3",
   "version": "3.6.7"
  }
 },
 "nbformat": 4,
 "nbformat_minor": 2
}
