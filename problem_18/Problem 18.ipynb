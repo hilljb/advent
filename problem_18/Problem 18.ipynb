{
 "cells": [
  {
   "cell_type": "markdown",
   "metadata": {},
   "source": [
    "## Problem 1"
   ]
  },
  {
   "cell_type": "code",
   "execution_count": 1,
   "metadata": {
    "collapsed": true
   },
   "outputs": [],
   "source": [
    "%load_ext Cython"
   ]
  },
  {
   "cell_type": "code",
   "execution_count": 20,
   "metadata": {},
   "outputs": [
    {
     "name": "stdout",
     "output_type": "stream",
     "text": [
      "lumbs: 704  trees: 775\n",
      "0.048897s\n"
     ]
    }
   ],
   "source": [
    "%%cython\n",
    "\n",
    "import time\n",
    "\n",
    "fp = open('input.txt','r')\n",
    "\n",
    "L = []\n",
    "\n",
    "for line in fp:\n",
    "    L.append(list(line.replace('\\n','')))\n",
    "\n",
    "lumbs = set([])\n",
    "trees = set([])\n",
    "opens = set([])\n",
    "\n",
    "#max_x = len(L[0])-1\n",
    "#max_y = len(L)-1\n",
    "\n",
    "for y in range(len(L)):\n",
    "    for x in range(len(L[0])):\n",
    "        if L[y][x] == '.':\n",
    "            opens.add((x,y))\n",
    "        elif L[y][x] == '|':\n",
    "            trees.add((x,y))\n",
    "        elif L[y][x] == '#':\n",
    "            lumbs.add((x,y))\n",
    "\n",
    "def find_adjacents(x,y):\n",
    "    adj = [0,0,0] # lumbs, trees, opens\n",
    "    for xc in [x-1,x,x+1]:\n",
    "        for yc in [y-1,y,y+1]:\n",
    "            if xc==x and yc==y:\n",
    "                continue\n",
    "            if (xc,yc) in lumbs:\n",
    "                adj[0] += 1\n",
    "            if (xc,yc) in trees:\n",
    "                adj[1] += 1\n",
    "            if (xc,yc) in opens:\n",
    "                adj[2] += 1\n",
    "    return(adj)\n",
    "            \n",
    "start_time = time.time()\n",
    "\n",
    "for i in range(10):\n",
    "    new_lumbs = set([])\n",
    "    new_trees = set([])\n",
    "    new_opens = set([])\n",
    "    \n",
    "    for p in opens:\n",
    "        adj = find_adjacents(p[0],p[1])\n",
    "        if adj[1] >= 3:\n",
    "            new_trees.add((p[0],p[1]))\n",
    "        else:\n",
    "            new_opens.add((p[0],p[1]))\n",
    "\n",
    "    for p in trees:\n",
    "        adj = find_adjacents(p[0],p[1])\n",
    "        if adj[0] >= 3:\n",
    "            new_lumbs.add((p[0],p[1]))\n",
    "        else:\n",
    "            new_trees.add((p[0],p[1]))\n",
    "            \n",
    "    for p in lumbs:\n",
    "        adj = find_adjacents(p[0],p[1])\n",
    "        if adj[0] >= 1 and adj[1] >= 1:\n",
    "            new_lumbs.add((p[0],p[1]))\n",
    "        else:\n",
    "            new_opens.add((p[0],p[1]))\n",
    "            \n",
    "    lumbs = new_lumbs\n",
    "    trees = new_trees\n",
    "    opens = new_opens\n",
    "    \n",
    "    \n",
    "print(\"lumbs: %s  trees: %s\" % (len(list(lumbs)),len(list(trees))))\n",
    "print(len(list(lumbs))*len(list(trees)))\n",
    "\n",
    "elapsed_time = time.time() - start_time\n",
    "\n",
    "print(\"%fs\" % elapsed_time)\n"
   ]
  },
  {
   "cell_type": "markdown",
   "metadata": {},
   "source": [
    "## Problem 2"
   ]
  },
  {
   "cell_type": "code",
   "execution_count": 50,
   "metadata": {},
   "outputs": [
    {
     "name": "stdout",
     "output_type": "stream",
     "text": [
      "lumbs: 325  trees: 577\n",
      "187525\n",
      "10.563331s\n"
     ]
    }
   ],
   "source": [
    "#%%cython\n",
    "\n",
    "import time\n",
    "\n",
    "fp = open('input.txt','r')\n",
    "\n",
    "L = []\n",
    "\n",
    "for line in fp:\n",
    "    L.append(list(line.replace('\\n','')))\n",
    "\n",
    "lumbs = set([])\n",
    "trees = set([])\n",
    "opens = set([])\n",
    "\n",
    "#max_x = len(L[0])-1\n",
    "#max_y = len(L)-1\n",
    "\n",
    "for y in range(len(L)):\n",
    "    for x in range(len(L[0])):\n",
    "        if L[y][x] == '.':\n",
    "            opens.add((x,y))\n",
    "        elif L[y][x] == '|':\n",
    "            trees.add((x,y))\n",
    "        elif L[y][x] == '#':\n",
    "            lumbs.add((x,y))\n",
    "\n",
    "def find_adjacents(x,y):\n",
    "    adj = [0,0,0] # lumbs, trees, opens\n",
    "    for xc in [x-1,x,x+1]:\n",
    "        for yc in [y-1,y,y+1]:\n",
    "            if xc==x and yc==y:\n",
    "                continue\n",
    "            if (xc,yc) in lumbs:\n",
    "                adj[0] += 1\n",
    "            if (xc,yc) in trees:\n",
    "                adj[1] += 1\n",
    "            if (xc,yc) in opens:\n",
    "                adj[2] += 1\n",
    "    return(adj)\n",
    "            \n",
    "start_time = time.time()\n",
    "\n",
    "pattern = []\n",
    "\n",
    "for i in range(1100):\n",
    "    new_lumbs = set([])\n",
    "    new_trees = set([])\n",
    "    new_opens = set([])\n",
    "    \n",
    "    for p in opens:\n",
    "        adj = find_adjacents(p[0],p[1])\n",
    "        if adj[1] >= 3:\n",
    "            new_trees.add((p[0],p[1]))\n",
    "        else:\n",
    "            new_opens.add((p[0],p[1]))\n",
    "\n",
    "    for p in trees:\n",
    "        adj = find_adjacents(p[0],p[1])\n",
    "        if adj[0] >= 3:\n",
    "            new_lumbs.add((p[0],p[1]))\n",
    "        else:\n",
    "            new_trees.add((p[0],p[1]))\n",
    "            \n",
    "    for p in lumbs:\n",
    "        adj = find_adjacents(p[0],p[1])\n",
    "        if adj[0] >= 1 and adj[1] >= 1:\n",
    "            new_lumbs.add((p[0],p[1]))\n",
    "        else:\n",
    "            new_opens.add((p[0],p[1]))\n",
    "            \n",
    "    lumbs = new_lumbs\n",
    "    trees = new_trees\n",
    "    opens = new_opens\n",
    "    \n",
    "    if i >= 999:\n",
    "        pattern.append([i,len(list(lumbs)),len(list(trees))])\n",
    "    \n",
    "    \n",
    "print(\"lumbs: %s  trees: %s\" % (len(list(lumbs)),len(list(trees))))\n",
    "print(len(list(lumbs))*len(list(trees)))\n",
    "\n",
    "elapsed_time = time.time() - start_time\n",
    "\n",
    "print(\"%fs\" % elapsed_time)\n"
   ]
  },
  {
   "cell_type": "code",
   "execution_count": 51,
   "metadata": {},
   "outputs": [],
   "source": [
    "def get_seq_len(seq):\n",
    "    \"\"\"\n",
    "    Get the length of a repeating sequence.\n",
    "    \"\"\"\n",
    "    limit = int(len(seq)/2)\n",
    "    for i in range(2, limit):\n",
    "        if seq[0:i]==seq[i:2*i]:\n",
    "            # Pattern found\n",
    "            return(i)\n",
    "    # No pattern found\n",
    "    return(1)"
   ]
  },
  {
   "cell_type": "code",
   "execution_count": 52,
   "metadata": {},
   "outputs": [
    {
     "data": {
      "text/plain": [
       "6"
      ]
     },
     "execution_count": 52,
     "metadata": {},
     "output_type": "execute_result"
    }
   ],
   "source": [
    "get_seq_len([1,2,3,4,5,6,1,2,3,4,5,6,1,2,3,4])"
   ]
  },
  {
   "cell_type": "code",
   "execution_count": 53,
   "metadata": {},
   "outputs": [
    {
     "data": {
      "text/plain": [
       "28"
      ]
     },
     "execution_count": 53,
     "metadata": {},
     "output_type": "execute_result"
    }
   ],
   "source": [
    "get_seq_len([p[1] for p in pattern])"
   ]
  },
  {
   "cell_type": "code",
   "execution_count": 54,
   "metadata": {},
   "outputs": [
    {
     "data": {
      "text/plain": [
       "28"
      ]
     },
     "execution_count": 54,
     "metadata": {},
     "output_type": "execute_result"
    }
   ],
   "source": [
    "get_seq_len([p[2] for p in pattern])"
   ]
  },
  {
   "cell_type": "code",
   "execution_count": 55,
   "metadata": {},
   "outputs": [
    {
     "data": {
      "text/plain": [
       "[999, 336, 602]"
      ]
     },
     "execution_count": 55,
     "metadata": {},
     "output_type": "execute_result"
    }
   ],
   "source": [
    "pattern[0]"
   ]
  },
  {
   "cell_type": "code",
   "execution_count": 56,
   "metadata": {},
   "outputs": [
    {
     "data": {
      "text/plain": [
       "0"
      ]
     },
     "execution_count": 56,
     "metadata": {},
     "output_type": "execute_result"
    }
   ],
   "source": [
    "(1000000000-1000) % 28"
   ]
  },
  {
   "cell_type": "code",
   "execution_count": 57,
   "metadata": {},
   "outputs": [
    {
     "data": {
      "text/plain": [
       "202272"
      ]
     },
     "execution_count": 57,
     "metadata": {},
     "output_type": "execute_result"
    }
   ],
   "source": [
    "336*602"
   ]
  },
  {
   "cell_type": "code",
   "execution_count": null,
   "metadata": {
    "collapsed": true
   },
   "outputs": [],
   "source": []
  }
 ],
 "metadata": {
  "kernelspec": {
   "display_name": "Python 3",
   "language": "python",
   "name": "python3"
  },
  "language_info": {
   "codemirror_mode": {
    "name": "ipython",
    "version": 3
   },
   "file_extension": ".py",
   "mimetype": "text/x-python",
   "name": "python",
   "nbconvert_exporter": "python",
   "pygments_lexer": "ipython3",
   "version": "3.6.7"
  }
 },
 "nbformat": 4,
 "nbformat_minor": 2
}
