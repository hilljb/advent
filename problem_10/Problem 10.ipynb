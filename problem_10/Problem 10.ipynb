{
 "cells": [
  {
   "cell_type": "code",
   "execution_count": 1,
   "metadata": {
    "collapsed": true
   },
   "outputs": [],
   "source": [
    "fp = open('input.txt','r')\n",
    "\n",
    "L = []\n",
    "\n",
    "for line in fp:\n",
    "    pos = [int(i) for i in line.replace(' ','').split('<')[1].split('>')[0].split(',')]\n",
    "    vel = [int(i) for i in line.replace(' ','').split('<')[2].split('>')[0].split(',')]\n",
    "    L.append((pos,vel))"
   ]
  },
  {
   "cell_type": "code",
   "execution_count": 2,
   "metadata": {
    "collapsed": true
   },
   "outputs": [],
   "source": [
    "pos = [i[0] for i in L]\n",
    "vel = [i[1] for i in L]\n",
    "#vel = [[i[1][0],-i[1][1]] for i in L] # orient thing correctly"
   ]
  },
  {
   "cell_type": "code",
   "execution_count": 3,
   "metadata": {
    "collapsed": true
   },
   "outputs": [],
   "source": [
    "import copy\n",
    "\n",
    "class Grid(object):\n",
    "    \n",
    "    def __init__(self, pos, vel):\n",
    "        \"\"\"\n",
    "        Input coords and velocities\n",
    "        \"\"\"\n",
    "        self.pos = pos\n",
    "        self.vel = vel\n",
    "        \n",
    "        self.min_x = min([x[0] for x in self.pos])\n",
    "        self.max_x = max([x[0] for x in self.pos])\n",
    "        self.min_y = min([y[1] for y in self.pos])\n",
    "        self.max_y = max([y[1] for y in self.pos])\n",
    "        \n",
    "        self.view = None\n",
    "        \n",
    "        \n",
    "    def make_bounds(self):\n",
    "        self.min_x = min([x[0] for x in self.pos])\n",
    "        self.max_x = max([x[0] for x in self.pos])\n",
    "        self.min_y = min([y[1] for y in self.pos])\n",
    "        self.max_y = max([y[1] for y in self.pos])\n",
    "        \n",
    "        \n",
    "    def iterate(self):\n",
    "        for i in range(len(self.pos)):\n",
    "            self.pos[i][0] += self.vel[i][0]\n",
    "            self.pos[i][1] += self.vel[i][1]\n",
    "        \n",
    "        \n",
    "    def make_view(self):\n",
    "        self.make_bounds()\n",
    "        view = []\n",
    "        for y in range(self.min_y,self.max_y+1):\n",
    "            view.append(['.' for x in range(self.min_x,self.max_x+1)])\n",
    "        for p in self.pos:\n",
    "            shift_x = min(0,self.min_x)\n",
    "            shift_y = min(0,self.min_y)\n",
    "            try:\n",
    "                view[p[1]-self.min_y][p[0]-self.min_x] = '#'\n",
    "            except:\n",
    "                print(\"%s out of range\" % p)\n",
    "                print(\"min_x=%s\" % self.min_x)\n",
    "                print(\"max_x=%s\" % self.max_x)\n",
    "                print(\"min_y=%s\" % self.min_y)\n",
    "                print(\"max_y=%s\" % self.max_y)\n",
    "                print(\"shift_x=%s shift_y=%s\" % (abs(shift_x), abs(shift_y)))\n",
    "        self.view = view\n",
    "        \n",
    "    \n",
    "    def see_view(self):\n",
    "        self.make_view()\n",
    "        for row in self.view:\n",
    "            print(''.join(row))\n",
    "    \n",
    "    \n",
    "    def run(self, max_y):\n",
    "        i = 0\n",
    "        while abs(self.max_y-self.min_y) > max_y:\n",
    "            self.iterate()\n",
    "            self.make_bounds()\n",
    "            i += 1\n",
    "        print(i)"
   ]
  },
  {
   "cell_type": "code",
   "execution_count": 4,
   "metadata": {
    "collapsed": true
   },
   "outputs": [],
   "source": [
    "grid = Grid(pos=pos, vel=vel)"
   ]
  },
  {
   "cell_type": "code",
   "execution_count": 5,
   "metadata": {},
   "outputs": [
    {
     "name": "stdout",
     "output_type": "stream",
     "text": [
      "10418\n"
     ]
    }
   ],
   "source": [
    "grid.run(max_y=10)"
   ]
  },
  {
   "cell_type": "code",
   "execution_count": 6,
   "metadata": {},
   "outputs": [
    {
     "name": "stdout",
     "output_type": "stream",
     "text": [
      "######..#....#..#....#..#####...######.....###..#....#..#####.\n",
      ".....#..##...#..##...#..#....#.......#......#...#....#..#....#\n",
      ".....#..##...#..##...#..#....#.......#......#....#..#...#....#\n",
      "....#...#.#..#..#.#..#..#....#......#.......#....#..#...#....#\n",
      "...#....#.#..#..#.#..#..#####......#........#.....##....#####.\n",
      "..#.....#..#.#..#..#.#..#..#......#.........#.....##....#.....\n",
      ".#......#..#.#..#..#.#..#...#....#..........#....#..#...#.....\n",
      "#.......#...##..#...##..#...#...#.......#...#....#..#...#.....\n",
      "#.......#...##..#...##..#....#..#.......#...#...#....#..#.....\n",
      "######..#....#..#....#..#....#..######...###....#....#..#.....\n"
     ]
    }
   ],
   "source": [
    "grid.see_view()"
   ]
  },
  {
   "cell_type": "code",
   "execution_count": null,
   "metadata": {
    "collapsed": true
   },
   "outputs": [],
   "source": []
  }
 ],
 "metadata": {
  "kernelspec": {
   "display_name": "Python 3",
   "language": "python",
   "name": "python3"
  },
  "language_info": {
   "codemirror_mode": {
    "name": "ipython",
    "version": 3
   },
   "file_extension": ".py",
   "mimetype": "text/x-python",
   "name": "python",
   "nbconvert_exporter": "python",
   "pygments_lexer": "ipython3",
   "version": "3.6.7"
  }
 },
 "nbformat": 4,
 "nbformat_minor": 2
}
