{
 "cells": [
  {
   "cell_type": "markdown",
   "metadata": {},
   "source": [
    "## Functions"
   ]
  },
  {
   "cell_type": "code",
   "execution_count": 78,
   "metadata": {},
   "outputs": [],
   "source": [
    "def next_opcode_v1(code, pntr):\n",
    "    \"\"\"\n",
    "    Performs the next set of opcode instructions and returns the next read pointer location.\n",
    "    \n",
    "    Args:\n",
    "        code (list of int) : The opcode, converted to a list of integers.\n",
    "        pntr (int >= 0) : The current read pointer location.\n",
    "    \"\"\"\n",
    "    # Add\n",
    "    if code[pntr]==1:\n",
    "        val_1 = code[code[pntr+1]]\n",
    "        val_2 = code[code[pntr+2]]\n",
    "        code[code[pntr+3]] = val_1 + val_2\n",
    "        \n",
    "        next_pntr = pntr + 4\n",
    "        \n",
    "    # Multiply\n",
    "    elif code[pntr]==2:\n",
    "        val_1 = code[code[pntr+1]]\n",
    "        val_2 = code[code[pntr+2]]\n",
    "        code[code[pntr+3]] = val_1 * val_2\n",
    "        \n",
    "        next_pntr = pntr + 4\n",
    "        \n",
    "    # Halt\n",
    "    elif code[pntr]==99:\n",
    "        next_pntr = pntr\n",
    "    \n",
    "    return(next_pntr)\n",
    "\n",
    "def parse_opcode_v1(code):\n",
    "    \"\"\"\n",
    "    Run an opcode.\n",
    "    \"\"\"\n",
    "    pntr = 0\n",
    "    while code[pntr] != 99:\n",
    "        pntr = next_opcode_v1(code=code, pntr=pntr)\n",
    "    \n",
    "def get_parameter_mode(opcode, parameter):\n",
    "    \"\"\"\n",
    "    Determines if the parameter is in position or immediate mode.\n",
    "    \"\"\"\n",
    "    modes = [int(d) for d in list(str(opcode))][0:-2]\n",
    "    \n",
    "def next_opcode_v2(code, pntr, inputs, outputs):\n",
    "    \"\"\"\n",
    "    Performs the next set of opcode instructions and returns the next read pointer location.\n",
    "    \n",
    "    Args:\n",
    "        code (list of int) : The opcode, converted to a list of integers.\n",
    "        pntr (int >= 0) : The current read pointer location.\n",
    "    \"\"\"\n",
    "    # Determine Position or Immediate Modes\n",
    "    modes = [int(d) for d in list(str(code[pntr]))][0:-2]\n",
    "    modes.reverse()\n",
    "    for i in range(2-len(modes)):\n",
    "        modes.append(0)\n",
    "        \n",
    "    # Add\n",
    "    if code[pntr] % 100 == 1:\n",
    "        if modes[0] == 0:\n",
    "            val_1 = code[code[pntr+1]]\n",
    "        else:\n",
    "            val_1 = code[pntr+1]\n",
    "        if modes[1] == 0:\n",
    "            val_2 = code[code[pntr+2]]\n",
    "        else:\n",
    "            val_2 = code[pntr+2]\n",
    "            \n",
    "        code[code[pntr+3]] = val_1 + val_2\n",
    "        \n",
    "        next_pntr = pntr + 4\n",
    "        \n",
    "    # Multiply\n",
    "    elif code[pntr] % 100 == 2:\n",
    "        if modes[0] == 0:\n",
    "            val_1 = code[code[pntr+1]]\n",
    "        else:\n",
    "            val_1 = code[pntr+1]\n",
    "        if modes[1] == 0:\n",
    "            val_2 = code[code[pntr+2]]\n",
    "        else:\n",
    "            val_2 = code[pntr+2]\n",
    "        code[code[pntr+3]] = val_1 * val_2\n",
    "        \n",
    "        next_pntr = pntr + 4\n",
    "    \n",
    "    # Input\n",
    "    elif code[pntr] % 100 == 3:\n",
    "        # Remove the first value from inputs and store\n",
    "        val = inputs.pop(0)\n",
    "        if modes[0] == 0:\n",
    "            code[code[pntr+1]] = val\n",
    "        else:\n",
    "            code[pntr+1] = val\n",
    "        \n",
    "        next_pntr = pntr + 2\n",
    "        \n",
    "    # Output\n",
    "    elif code[pntr] % 100 == 4:\n",
    "        # Store output\n",
    "        if modes[0] == 0:\n",
    "            val = code[code[pntr+1]]\n",
    "        else:\n",
    "            val = code[pntr+1]\n",
    "        outputs.append(val)\n",
    "        \n",
    "        next_pntr = pntr + 2\n",
    "        \n",
    "    # Halt\n",
    "    elif code[pntr] % 100 ==99:\n",
    "        next_pntr = pntr\n",
    "    \n",
    "    else:\n",
    "        raise RuntimeError(\"opcode not found: %s\" % code[pntr])\n",
    "    \n",
    "    return(next_pntr)\n",
    "\n",
    "def parse_opcode_v2(code, inputs, outputs):\n",
    "    \"\"\"\n",
    "    Run a problem 5 opcode.\n",
    "    \"\"\"\n",
    "    pntr = 0\n",
    "    while code[pntr] != 99:\n",
    "        pntr = next_opcode_v2(code=code, pntr=pntr, inputs=inputs, outputs=outputs)"
   ]
  },
  {
   "cell_type": "code",
   "execution_count": 28,
   "metadata": {},
   "outputs": [
    {
     "data": {
      "text/plain": [
       "3500"
      ]
     },
     "execution_count": 28,
     "metadata": {},
     "output_type": "execute_result"
    }
   ],
   "source": [
    "opcode=[1,9,10,3,2,3,11,0,99,30,40,50]\n",
    "parse_opcode_v1(opcode)\n",
    "opcode[0]"
   ]
  },
  {
   "cell_type": "markdown",
   "metadata": {},
   "source": [
    "## Problem 2 Part 1"
   ]
  },
  {
   "cell_type": "code",
   "execution_count": 29,
   "metadata": {},
   "outputs": [],
   "source": [
    "filename = 'problem_2_input.txt'\n",
    "\n",
    "f_p = open(filename, 'r')\n",
    "code = [int(d) for d in f_p.readline().replace('\\n','').split(',')]\n",
    "f_p.close()\n",
    "\n",
    "# Instructions say to replace these values before running\n",
    "code[1] = 12\n",
    "code[2] = 2"
   ]
  },
  {
   "cell_type": "code",
   "execution_count": 30,
   "metadata": {},
   "outputs": [],
   "source": [
    "parse_opcode_v1(code)"
   ]
  },
  {
   "cell_type": "code",
   "execution_count": 31,
   "metadata": {},
   "outputs": [
    {
     "data": {
      "text/plain": [
       "4930687"
      ]
     },
     "execution_count": 31,
     "metadata": {},
     "output_type": "execute_result"
    }
   ],
   "source": [
    "code[0]"
   ]
  },
  {
   "cell_type": "markdown",
   "metadata": {},
   "source": [
    "## Problem 2 Part 2"
   ]
  },
  {
   "cell_type": "code",
   "execution_count": 41,
   "metadata": {},
   "outputs": [],
   "source": [
    "import copy\n",
    "\n",
    "filename = 'problem_2_input.txt'\n",
    "\n",
    "f_p = open(filename, 'r')\n",
    "code = [int(d) for d in f_p.readline().replace('\\n','').split(',')]\n",
    "f_p.close()"
   ]
  },
  {
   "cell_type": "code",
   "execution_count": 45,
   "metadata": {},
   "outputs": [
    {
     "name": "stdout",
     "output_type": "stream",
     "text": [
      "5335\n"
     ]
    }
   ],
   "source": [
    "for i in range(100):\n",
    "    for j in range(100):\n",
    "        code_fresh = copy.deepcopy(code)\n",
    "        \n",
    "        code_fresh[1] = i\n",
    "        code_fresh[2] = j\n",
    "        \n",
    "        parse_opcode_v1(code_fresh)\n",
    "        \n",
    "        if code_fresh[0] == 19690720:\n",
    "            print(100 * i + j)\n",
    "            break"
   ]
  },
  {
   "cell_type": "markdown",
   "metadata": {},
   "source": [
    "## Problem 5 Part 1"
   ]
  },
  {
   "cell_type": "code",
   "execution_count": 81,
   "metadata": {},
   "outputs": [],
   "source": [
    "test_code = [3,0,4,0,99]\n",
    "inputs = [5]\n",
    "outputs = []\n",
    "\n",
    "parse_opcode_v2(code=test_code, inputs=inputs, outputs=outputs)"
   ]
  },
  {
   "cell_type": "code",
   "execution_count": 82,
   "metadata": {},
   "outputs": [
    {
     "data": {
      "text/plain": [
       "[5]"
      ]
     },
     "execution_count": 82,
     "metadata": {},
     "output_type": "execute_result"
    }
   ],
   "source": [
    "outputs"
   ]
  },
  {
   "cell_type": "code",
   "execution_count": 83,
   "metadata": {},
   "outputs": [],
   "source": [
    "test_code = [1002,4,3,4,33]\n",
    "inputs = []\n",
    "outputs = []\n",
    "\n",
    "parse_opcode_v2(code=test_code, inputs=inputs, outputs=outputs)"
   ]
  },
  {
   "cell_type": "code",
   "execution_count": 84,
   "metadata": {},
   "outputs": [
    {
     "data": {
      "text/plain": [
       "[]"
      ]
     },
     "execution_count": 84,
     "metadata": {},
     "output_type": "execute_result"
    }
   ],
   "source": [
    "outputs"
   ]
  },
  {
   "cell_type": "code",
   "execution_count": 85,
   "metadata": {},
   "outputs": [
    {
     "data": {
      "text/plain": [
       "[1002, 4, 3, 4, 99]"
      ]
     },
     "execution_count": 85,
     "metadata": {},
     "output_type": "execute_result"
    }
   ],
   "source": [
    "test_code"
   ]
  },
  {
   "cell_type": "code",
   "execution_count": 86,
   "metadata": {},
   "outputs": [],
   "source": [
    "filename = 'problem_5_input.txt'\n",
    "\n",
    "f_p = open(filename, 'r')\n",
    "code = [int(d) for d in f_p.readline().replace('\\n','').split(',')]\n",
    "f_p.close()\n",
    "\n",
    "inputs = [1]\n",
    "outputs = []\n",
    "\n",
    "parse_opcode_v2(code=code, inputs=inputs, outputs=outputs)"
   ]
  },
  {
   "cell_type": "code",
   "execution_count": 88,
   "metadata": {},
   "outputs": [
    {
     "data": {
      "text/plain": [
       "16348437"
      ]
     },
     "execution_count": 88,
     "metadata": {},
     "output_type": "execute_result"
    }
   ],
   "source": [
    "outputs[-1]"
   ]
  },
  {
   "cell_type": "markdown",
   "metadata": {},
   "source": [
    "## Problem 5 Part 2"
   ]
  },
  {
   "cell_type": "code",
   "execution_count": 145,
   "metadata": {},
   "outputs": [],
   "source": [
    "def next_opcode_v2(code, pntr, inputs, outputs):\n",
    "    \"\"\"\n",
    "    Performs the next set of opcode instructions and returns the next read pointer location.\n",
    "    \n",
    "    Args:\n",
    "        code (list of int) : The opcode, converted to a list of integers.\n",
    "        pntr (int >= 0) : The current read pointer location.\n",
    "    \"\"\"\n",
    "    # Determine Position or Immediate Modes\n",
    "    modes = [int(d) for d in list(str(code[pntr]))][0:-2]\n",
    "    modes.reverse()\n",
    "    for i in range(4):\n",
    "        modes.append(0)\n",
    "        \n",
    "    # Add\n",
    "    if code[pntr] % 100 == 1:\n",
    "        if modes[0] == 0:\n",
    "            val_1 = code[code[pntr+1]]\n",
    "        else:\n",
    "            val_1 = code[pntr+1]\n",
    "        if modes[1] == 0:\n",
    "            val_2 = code[code[pntr+2]]\n",
    "        else:\n",
    "            val_2 = code[pntr+2]\n",
    "            \n",
    "        code[code[pntr+3]] = val_1 + val_2\n",
    "        \n",
    "        next_pntr = pntr + 4\n",
    "        \n",
    "    # Multiply\n",
    "    elif code[pntr] % 100 == 2:\n",
    "        if modes[0] == 0:\n",
    "            val_1 = code[code[pntr+1]]\n",
    "        else:\n",
    "            val_1 = code[pntr+1]\n",
    "        if modes[1] == 0:\n",
    "            val_2 = code[code[pntr+2]]\n",
    "        else:\n",
    "            val_2 = code[pntr+2]\n",
    "        code[code[pntr+3]] = val_1 * val_2\n",
    "        \n",
    "        next_pntr = pntr + 4\n",
    "    \n",
    "    # Input\n",
    "    elif code[pntr] % 100 == 3:\n",
    "        # Remove the first value from inputs and store\n",
    "        val = inputs.pop(0)\n",
    "        if modes[0] == 0:\n",
    "            code[code[pntr+1]] = val\n",
    "        else:\n",
    "            code[pntr+1] = val\n",
    "        \n",
    "        next_pntr = pntr + 2\n",
    "        \n",
    "    # Output\n",
    "    elif code[pntr] % 100 == 4:\n",
    "        # Store output\n",
    "        if modes[0] == 0:\n",
    "            val = code[code[pntr+1]]\n",
    "        else:\n",
    "            val = code[pntr+1]\n",
    "        outputs.append(val)\n",
    "        \n",
    "        next_pntr = pntr + 2\n",
    "        \n",
    "    # Jump if True\n",
    "    elif code[pntr] % 100 == 5:\n",
    "        if modes[0] == 0:\n",
    "            val_1 = code[code[pntr+1]]\n",
    "        else:\n",
    "            val_1 = code[pntr+1]\n",
    "            \n",
    "        if val_1 != 0:\n",
    "            if modes[1] == 0:\n",
    "                next_pntr = code[code[pntr+2]]\n",
    "            else:\n",
    "                next_pntr = code[pntr+2]\n",
    "        else:\n",
    "            next_pntr = pntr + 3\n",
    "            \n",
    "    # Jump if False\n",
    "    elif code[pntr] % 100 == 6:\n",
    "        if modes[0] == 0:\n",
    "            val_1 = code[code[pntr+1]]\n",
    "        else:\n",
    "            val_1 = code[pntr+1]\n",
    "            \n",
    "        if val_1 == 0:\n",
    "            if modes[1] == 0:\n",
    "                next_pntr = code[code[pntr+2]]\n",
    "            else:\n",
    "                next_pntr = code[pntr+2]\n",
    "        else:\n",
    "            next_pntr = pntr + 3\n",
    "            \n",
    "    # Less Than\n",
    "    elif code[pntr] % 100 == 7:\n",
    "        if modes[0] == 0:\n",
    "            val_1 = code[code[pntr+1]]\n",
    "        else:\n",
    "            val_1 = code[pntr+1]\n",
    "        if modes[1] == 0:\n",
    "            val_2 = code[code[pntr+2]]\n",
    "        else:\n",
    "            val_2 = code[pntr+2]\n",
    "            \n",
    "        if val_1 < val_2:\n",
    "            new_val = 1\n",
    "        else:\n",
    "            new_val = 0\n",
    "            \n",
    "        if modes[2] == 0:\n",
    "            code[code[pntr+3]] = new_val\n",
    "        else:\n",
    "            code[pntr+3] = new_val\n",
    "            \n",
    "        next_pntr = pntr + 4\n",
    "          \n",
    "    # Equals\n",
    "    elif code[pntr] % 100 == 8:\n",
    "        if modes[0] == 0:\n",
    "            val_1 = code[code[pntr+1]]\n",
    "        else:\n",
    "            val_1 = code[pntr+1]\n",
    "        if modes[1] == 0:\n",
    "            val_2 = code[code[pntr+2]]\n",
    "        else:\n",
    "            val_2 = code[pntr+2]\n",
    "            \n",
    "        if val_1 == val_2:\n",
    "            new_val = 1\n",
    "        else:\n",
    "            new_val = 0\n",
    "            \n",
    "        if modes[2] == 0:\n",
    "            code[code[pntr+3]] = new_val\n",
    "        else:\n",
    "            code[pntr+3] = new_val\n",
    "            \n",
    "        next_pntr = pntr + 4\n",
    "        \n",
    "    # Halt\n",
    "    elif code[pntr] % 100 ==99:\n",
    "        next_pntr = pntr\n",
    "    \n",
    "    else:\n",
    "        raise RuntimeError(\"opcode not found: %s\" % code[pntr])\n",
    "    \n",
    "    return(next_pntr)\n",
    "\n",
    "def parse_opcode_v2(code, inputs, outputs):\n",
    "    \"\"\"\n",
    "    Run a problem 5 opcode.\n",
    "    \"\"\"\n",
    "    pntr = 0\n",
    "    while code[pntr] != 99 and pntr < len(code):\n",
    "        pntr = next_opcode_v2(code=code, pntr=pntr, inputs=inputs, outputs=outputs)"
   ]
  },
  {
   "cell_type": "code",
   "execution_count": 129,
   "metadata": {},
   "outputs": [],
   "source": [
    "L = [1,2,3]"
   ]
  },
  {
   "cell_type": "code",
   "execution_count": 147,
   "metadata": {},
   "outputs": [
    {
     "data": {
      "text/plain": [
       "[1]"
      ]
     },
     "execution_count": 147,
     "metadata": {},
     "output_type": "execute_result"
    }
   ],
   "source": [
    "test_code = [3,9,8,9,10,9,4,9,99,-1,8]\n",
    "inputs = [8]\n",
    "outputs = []\n",
    "\n",
    "parse_opcode_v2(code=test_code, inputs=inputs, outputs=outputs)\n",
    "\n",
    "outputs"
   ]
  },
  {
   "cell_type": "code",
   "execution_count": 148,
   "metadata": {},
   "outputs": [
    {
     "data": {
      "text/plain": [
       "[1]"
      ]
     },
     "execution_count": 148,
     "metadata": {},
     "output_type": "execute_result"
    }
   ],
   "source": [
    "test_code = [3,9,7,9,10,9,4,9,99,-1,8]\n",
    "inputs = [7]\n",
    "outputs = []\n",
    "\n",
    "parse_opcode_v2(code=test_code, inputs=inputs, outputs=outputs)\n",
    "\n",
    "outputs"
   ]
  },
  {
   "cell_type": "code",
   "execution_count": 149,
   "metadata": {},
   "outputs": [
    {
     "data": {
      "text/plain": [
       "[1]"
      ]
     },
     "execution_count": 149,
     "metadata": {},
     "output_type": "execute_result"
    }
   ],
   "source": [
    "test_code = [3,3,1108,-1,8,3,4,3,99]\n",
    "inputs = [8]\n",
    "outputs = []\n",
    "\n",
    "parse_opcode_v2(code=test_code, inputs=inputs, outputs=outputs)\n",
    "\n",
    "outputs"
   ]
  },
  {
   "cell_type": "code",
   "execution_count": 150,
   "metadata": {},
   "outputs": [
    {
     "data": {
      "text/plain": [
       "[0]"
      ]
     },
     "execution_count": 150,
     "metadata": {},
     "output_type": "execute_result"
    }
   ],
   "source": [
    "test_code = [3,9,8,9,10,9,4,9,99,-1,8]\n",
    "inputs = [9]\n",
    "outputs = []\n",
    "\n",
    "parse_opcode_v2(code=test_code, inputs=inputs, outputs=outputs)\n",
    "\n",
    "outputs"
   ]
  },
  {
   "cell_type": "code",
   "execution_count": 151,
   "metadata": {},
   "outputs": [
    {
     "data": {
      "text/plain": [
       "[1001]"
      ]
     },
     "execution_count": 151,
     "metadata": {},
     "output_type": "execute_result"
    }
   ],
   "source": [
    "test_code = [3,21,1008,21,8,20,1005,20,22,107,8,21,20,1006,20,31,1106,0,36,98,0,0,1002,21,125,20,4,20,1105,1,46,104,999,1105,1,46,1101,1000,1,20,4,20,1105,1,46,98,99]\n",
    "inputs = [100000]\n",
    "outputs = []\n",
    "\n",
    "parse_opcode_v2(code=test_code, inputs=inputs, outputs=outputs)\n",
    "\n",
    "outputs"
   ]
  },
  {
   "cell_type": "code",
   "execution_count": 152,
   "metadata": {},
   "outputs": [
    {
     "data": {
      "text/plain": [
       "[6959377]"
      ]
     },
     "execution_count": 152,
     "metadata": {},
     "output_type": "execute_result"
    }
   ],
   "source": [
    "filename = 'problem_5_input.txt'\n",
    "\n",
    "f_p = open(filename, 'r')\n",
    "code = [int(d) for d in f_p.readline().replace('\\n','').split(',')]\n",
    "f_p.close()\n",
    "\n",
    "inputs = [5]\n",
    "outputs = []\n",
    "\n",
    "parse_opcode_v2(code=code, inputs=inputs, outputs=outputs)\n",
    "\n",
    "outputs"
   ]
  },
  {
   "cell_type": "code",
   "execution_count": null,
   "metadata": {},
   "outputs": [],
   "source": []
  }
 ],
 "metadata": {
  "kernelspec": {
   "display_name": "Python 3",
   "language": "python",
   "name": "python3"
  },
  "language_info": {
   "codemirror_mode": {
    "name": "ipython",
    "version": 3
   },
   "file_extension": ".py",
   "mimetype": "text/x-python",
   "name": "python",
   "nbconvert_exporter": "python",
   "pygments_lexer": "ipython3",
   "version": "3.7.3"
  }
 },
 "nbformat": 4,
 "nbformat_minor": 2
}
