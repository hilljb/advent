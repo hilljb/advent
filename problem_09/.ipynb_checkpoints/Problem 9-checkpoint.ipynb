{
 "cells": [
  {
   "cell_type": "code",
   "execution_count": 1,
   "metadata": {
    "collapsed": true
   },
   "outputs": [],
   "source": [
    "class Marble(object):\n",
    "    def __init__(self, label, ccw_node=None, cw_node=None):\n",
    "        self.label = label\n",
    "        self.cw_node = cw_node # pointer clockwise\n",
    "        self.ccw_node = ccw_node # pointer counter-clockwise\n",
    "        \n",
    "    def __str__(self):\n",
    "        return(\"%s\" % self.label)\n",
    "\n",
    "    \n",
    "class Game(object):\n",
    "    \"\"\"\n",
    "    Uses a doubly-linked looping list to track the game.\n",
    "    \"\"\"\n",
    "    def __init__(self, players, last):\n",
    "        \"\"\"\n",
    "        Initialize the game with a single node\n",
    "        \"\"\"\n",
    "        self.player_count = players\n",
    "        self.scores = [0 for i in range(self.player_count+1)] # avoid zero index\n",
    "        \n",
    "        self.last = last\n",
    "        \n",
    "        self.zero = Marble(label=0)\n",
    "        self.zero.ccw_node = self.zero\n",
    "        self.zero.cw_node = self.zero\n",
    "        \n",
    "        self.current = self.zero\n",
    "        \n",
    "        \n",
    "    def __str__(self):\n",
    "        \n",
    "        n = self.zero\n",
    "        s = [\"%s\" % n]\n",
    "        n = n.cw_node\n",
    "        while n!=self.zero:\n",
    "            if self.current == n:\n",
    "                s += [\"(%s)\" % n]\n",
    "            else:\n",
    "                s += [\"%s\" % n]\n",
    "            n = n.cw_node\n",
    "        return(' '.join(s))\n",
    "        \n",
    "    \n",
    "    def insert(self, label, ccw_node, cw_node):\n",
    "        \"\"\"\n",
    "        Insert node between counter-clockwise node and clockwise node.\n",
    "        \"\"\"\n",
    "        new_node = Marble(label=label, ccw_node=ccw_node, cw_node=cw_node)\n",
    "        ccw_node.cw_node = new_node\n",
    "        cw_node.ccw_node = new_node\n",
    "        self.current = new_node\n",
    "\n",
    "\n",
    "    def delete(self, node):\n",
    "        \"\"\"\n",
    "        Remove node and relink lists.\n",
    "        \"\"\"\n",
    "        # Get the references\n",
    "        ccw_node = node.ccw_node\n",
    "        cw_node = node.cw_node\n",
    "        # Reset the links (node is dereferenced automatically)\n",
    "        cw_node.ccw_node = ccw_node\n",
    "        ccw_node.cw_node = cw_node\n",
    "        \n",
    "        \n",
    "    def single_play(self, turn):\n",
    "        \"\"\"\n",
    "        Play until the last marble is thrown.\n",
    "        \"\"\"\n",
    "        # Which player is making this move\n",
    "        player = ((turn-1)%self.player_count)+1\n",
    "        \n",
    "        # the next marble is a multiple of 23\n",
    "        if turn%23 == 0:\n",
    "            # Add the marble about the be thrown\n",
    "            self.scores[player] += turn\n",
    "            # Remove the marble 7 counter clockwise from current\n",
    "            marble_to_remove = self.current.ccw_node.ccw_node.ccw_node.ccw_node.ccw_node.ccw_node.ccw_node\n",
    "            self.scores[player] += marble_to_remove.label\n",
    "            self.current = marble_to_remove.cw_node # Set new current marble\n",
    "            self.delete(marble_to_remove) # Remove marble\n",
    "            \n",
    "        # Otherwise, proceed as usual\n",
    "        else:\n",
    "            self.insert(label=turn, ccw_node=self.current.cw_node, cw_node=self.current.cw_node.cw_node)\n",
    "    \n",
    "    \n",
    "    def play(self):\n",
    "        \"\"\"\n",
    "        Play game 1.\n",
    "        \"\"\"\n",
    "        for i in range(1,self.last+1):\n",
    "            self.single_play(i)\n",
    "        m = max(self.scores)\n",
    "        print(m)"
   ]
  },
  {
   "cell_type": "code",
   "execution_count": 2,
   "metadata": {
    "collapsed": true
   },
   "outputs": [],
   "source": [
    "G = Game(players=403, last=71920)"
   ]
  },
  {
   "cell_type": "code",
   "execution_count": 3,
   "metadata": {},
   "outputs": [
    {
     "name": "stdout",
     "output_type": "stream",
     "text": [
      "439089\n"
     ]
    }
   ],
   "source": [
    "G.play()"
   ]
  },
  {
   "cell_type": "code",
   "execution_count": 4,
   "metadata": {
    "collapsed": true
   },
   "outputs": [],
   "source": [
    "G = Game(players=403, last=7192000)"
   ]
  },
  {
   "cell_type": "code",
   "execution_count": 5,
   "metadata": {},
   "outputs": [
    {
     "name": "stdout",
     "output_type": "stream",
     "text": [
      "3668541094\n"
     ]
    }
   ],
   "source": [
    "G.play()"
   ]
  },
  {
   "cell_type": "code",
   "execution_count": null,
   "metadata": {
    "collapsed": true
   },
   "outputs": [],
   "source": []
  }
 ],
 "metadata": {
  "kernelspec": {
   "display_name": "Python 3",
   "language": "python",
   "name": "python3"
  },
  "language_info": {
   "codemirror_mode": {
    "name": "ipython",
    "version": 3
   },
   "file_extension": ".py",
   "mimetype": "text/x-python",
   "name": "python",
   "nbconvert_exporter": "python",
   "pygments_lexer": "ipython3",
   "version": "3.6.7"
  }
 },
 "nbformat": 4,
 "nbformat_minor": 2
}
