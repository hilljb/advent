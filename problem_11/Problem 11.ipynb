{
 "cells": [
  {
   "cell_type": "code",
   "execution_count": 1,
   "metadata": {
    "collapsed": true
   },
   "outputs": [],
   "source": [
    "fp = open('input.txt','r')\n",
    "\n",
    "L = []\n",
    "\n",
    "for line in fp:\n",
    "    L.append(line.replace('\\n',''))"
   ]
  },
  {
   "cell_type": "code",
   "execution_count": 2,
   "metadata": {
    "collapsed": true
   },
   "outputs": [],
   "source": [
    "P = [[0 for i in range(1,301)] for j in range(1,301)]"
   ]
  },
  {
   "cell_type": "code",
   "execution_count": 1,
   "metadata": {},
   "outputs": [],
   "source": [
    "def get_power_level(x,y,serial):\n",
    "    rack_id = x+10\n",
    "    power = y*rack_id\n",
    "    power += serial\n",
    "    power = power*rack_id\n",
    "    digit = int(list('0000000'+str(power))[-3])\n",
    "    digit -= 5\n",
    "    return(digit)"
   ]
  },
  {
   "cell_type": "code",
   "execution_count": 157,
   "metadata": {},
   "outputs": [
    {
     "data": {
      "text/plain": [
       "-1"
      ]
     },
     "execution_count": 157,
     "metadata": {},
     "output_type": "execute_result"
    }
   ],
   "source": [
    "get_power_level(4,1,7511)"
   ]
  },
  {
   "cell_type": "code",
   "execution_count": 2,
   "metadata": {
    "collapsed": true
   },
   "outputs": [],
   "source": [
    "M = []\n",
    "for y in range(1,301):\n",
    "    M.append([get_power_level(x,y,7511) for x in range(1,301)])"
   ]
  },
  {
   "cell_type": "code",
   "execution_count": 3,
   "metadata": {},
   "outputs": [],
   "source": [
    "def print_L(L,x_min,y_min,x_max,y_max):\n",
    "    for y in range(y_min,y_max+1):\n",
    "        print([L[y][x] for x in range(x_min,x_max+1)])"
   ]
  },
  {
   "cell_type": "code",
   "execution_count": 4,
   "metadata": {},
   "outputs": [
    {
     "name": "stdout",
     "output_type": "stream",
     "text": [
      "[2, -3, 3, -2, 3, -1]\n",
      "[3, -1, 4, 0, -4, 1]\n",
      "[4, 0, -4, 2, -2, 4]\n",
      "[-4, 2, -2, 4, 0, -3]\n",
      "[-3, 3, -1, -4, 2, -1]\n",
      "[-2, 4, 1, -2, -5, 2]\n"
     ]
    }
   ],
   "source": [
    "print_L(M,0,0,5,5)"
   ]
  },
  {
   "cell_type": "code",
   "execution_count": 5,
   "metadata": {},
   "outputs": [
    {
     "name": "stdout",
     "output_type": "stream",
     "text": [
      "max 8 at 1,1\n",
      "max 10 at 31,1\n",
      "max 14 at 94,1\n",
      "max 16 at 208,1\n",
      "max 23 at 260,1\n",
      "max 25 at 52,11\n",
      "max 27 at 22,21\n",
      "max 34 at 21,22\n"
     ]
    }
   ],
   "source": [
    "def three_sum(M,x,y):\n",
    "    s = 0\n",
    "    for yc in range(y,y+3):\n",
    "        for xc in range(x,x+3):\n",
    "            s+=M[yc][xc]\n",
    "    return(s)\n",
    "\n",
    "max_val = -100\n",
    "\n",
    "for y in range(0,297):\n",
    "    for x in range(0,297):\n",
    "        m = three_sum(M,x,y)\n",
    "        if m > max_val:\n",
    "            max_val = m\n",
    "            print(\"max %s at %s,%s\" % (max_val,x+1,y+1))"
   ]
  },
  {
   "cell_type": "code",
   "execution_count": null,
   "metadata": {},
   "outputs": [
    {
     "name": "stdout",
     "output_type": "stream",
     "text": [
      "max 2 at 1,1 size 1\n",
      "max 3 at 3,1 size 1\n",
      "max 4 at 7,1 size 1\n",
      "max 5 at 3,1 size 2\n",
      "max 6 at 42,1 size 2\n",
      "max 9 at 94,1 size 2\n",
      "max 12 at 131,1 size 2\n",
      "max 13 at 120,5 size 2\n",
      "max 14 at 99,6 size 2\n",
      "max 15 at 21,22 size 2\n",
      "max 16 at 21,23 size 2\n",
      "max 23 at 260,1 size 3\n",
      "max 25 at 52,11 size 3\n",
      "max 27 at 22,21 size 3\n",
      "max 34 at 21,22 size 3\n",
      "max 38 at 21,21 size 4\n",
      "max 39 at 18,104 size 5\n",
      "max 44 at 234,185 size 5\n",
      "max 45 at 233,295 size 5\n",
      "max 47 at 234,185 size 6\n",
      "max 54 at 242,291 size 6\n",
      "max 61 at 233,295 size 6\n",
      "max 66 at 237,288 size 7\n",
      "max 70 at 237,290 size 7\n",
      "max 73 at 237,292 size 7\n",
      "max 76 at 237,294 size 7\n",
      "max 77 at 237,287 size 8\n",
      "max 80 at 236,290 size 8\n",
      "max 83 at 236,291 size 8\n",
      "max 86 at 236,292 size 8\n",
      "max 90 at 236,293 size 8\n",
      "max 93 at 236,288 size 9\n",
      "max 94 at 237,288 size 9\n",
      "max 95 at 235,290 size 9\n",
      "max 107 at 235,292 size 9\n",
      "max 108 at 236,289 size 10\n",
      "max 112 at 234,291 size 10\n",
      "max 114 at 236,291 size 10\n",
      "max 116 at 235,288 size 11\n",
      "max 121 at 237,288 size 11\n",
      "max 128 at 233,290 size 11\n",
      "max 132 at 236,287 size 12\n",
      "max 142 at 236,289 size 12\n",
      "max 147 at 235,288 size 13\n"
     ]
    }
   ],
   "source": [
    "def n_sum(M,x,y,n):\n",
    "    s = 0\n",
    "    for yc in range(y,y+n):\n",
    "        for xc in range(x,x+n):\n",
    "            s+=M[yc][xc]\n",
    "    return(s)\n",
    "\n",
    "max_val = -100\n",
    "\n",
    "for n in range(1,301):\n",
    "\n",
    "    for y in range(0,299):\n",
    "        for x in range(0,299):\n",
    "            if y+n>300 or x+n>300:\n",
    "                continue\n",
    "            try:\n",
    "                m = n_sum(M,x,y,n)\n",
    "                if m > max_val:\n",
    "                    max_val = m\n",
    "                    print(\"max %s at %s,%s size %s\" % (max_val,x+1,y+1,n))\n",
    "            except:\n",
    "                pass"
   ]
  },
  {
   "cell_type": "code",
   "execution_count": null,
   "metadata": {
    "collapsed": true
   },
   "outputs": [],
   "source": []
  }
 ],
 "metadata": {
  "kernelspec": {
   "display_name": "Python 3",
   "language": "python",
   "name": "python3"
  },
  "language_info": {
   "codemirror_mode": {
    "name": "ipython",
    "version": 3
   },
   "file_extension": ".py",
   "mimetype": "text/x-python",
   "name": "python",
   "nbconvert_exporter": "python",
   "pygments_lexer": "ipython3",
   "version": "3.6.7"
  }
 },
 "nbformat": 4,
 "nbformat_minor": 2
}
