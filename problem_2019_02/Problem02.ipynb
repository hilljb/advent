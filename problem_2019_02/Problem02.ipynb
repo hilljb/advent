{
 "cells": [
  {
   "cell_type": "markdown",
   "metadata": {},
   "source": [
    "## Read in Data"
   ]
  },
  {
   "cell_type": "code",
   "execution_count": 33,
   "metadata": {},
   "outputs": [],
   "source": [
    "data = []\n",
    "\n",
    "f_p = open('data.txt','r')\n",
    "for line in f_p:\n",
    "    data = [int(n) for n in line.split(',')]\n",
    "f_p.close()"
   ]
  },
  {
   "cell_type": "markdown",
   "metadata": {},
   "source": [
    "## Problem 1"
   ]
  },
  {
   "cell_type": "code",
   "execution_count": 30,
   "metadata": {},
   "outputs": [],
   "source": [
    "data[1]=12\n",
    "data[2]=2"
   ]
  },
  {
   "cell_type": "code",
   "execution_count": 31,
   "metadata": {},
   "outputs": [],
   "source": [
    "i = 0\n",
    "while i < len(data):\n",
    "    \n",
    "    if data[i]==99:\n",
    "        i = len(data)\n",
    "    elif data[i]==1:\n",
    "        data[data[i+3]]=data[data[i+1]]+data[data[i+2]]\n",
    "        i += 4\n",
    "    elif data[i]==2:\n",
    "        data[data[i+3]]=data[data[i+1]]*data[data[i+2]]\n",
    "        i += 4"
   ]
  },
  {
   "cell_type": "code",
   "execution_count": 32,
   "metadata": {},
   "outputs": [
    {
     "data": {
      "text/plain": [
       "4930687"
      ]
     },
     "execution_count": 32,
     "metadata": {},
     "output_type": "execute_result"
    }
   ],
   "source": [
    "data[0]"
   ]
  },
  {
   "cell_type": "markdown",
   "metadata": {},
   "source": [
    "## Problem 2"
   ]
  },
  {
   "cell_type": "code",
   "execution_count": 34,
   "metadata": {},
   "outputs": [
    {
     "name": "stdout",
     "output_type": "stream",
     "text": [
      "53\n",
      "35\n"
     ]
    }
   ],
   "source": [
    "data = []\n",
    "\n",
    "f_p = open('data.txt','r')\n",
    "for line in f_p:\n",
    "    data = [int(n) for n in line.split(',')]\n",
    "f_p.close()\n",
    "\n",
    "import copy\n",
    "\n",
    "for i in range(100):\n",
    "    for j in range(100):\n",
    "        data_ij = copy.deepcopy(data)\n",
    "        \n",
    "        data_ij[1] = i\n",
    "        data_ij[2] = j\n",
    "        \n",
    "        k = 0\n",
    "        while k < len(data_ij):\n",
    "    \n",
    "            if data_ij[k]==99:\n",
    "                k = len(data_ij)\n",
    "            elif data_ij[k]==1:\n",
    "                data_ij[data_ij[k+3]]=data_ij[data_ij[k+1]]+data_ij[data_ij[k+2]]\n",
    "                k += 4\n",
    "            elif data_ij[k]==2:\n",
    "                data_ij[data_ij[k+3]]=data_ij[data_ij[k+1]]*data_ij[data_ij[k+2]]\n",
    "                k += 4\n",
    "                \n",
    "        if data_ij[0]==19690720:\n",
    "            print(i)\n",
    "            print(j)"
   ]
  },
  {
   "cell_type": "code",
   "execution_count": 36,
   "metadata": {},
   "outputs": [
    {
     "data": {
      "text/plain": [
       "5335"
      ]
     },
     "execution_count": 36,
     "metadata": {},
     "output_type": "execute_result"
    }
   ],
   "source": [
    "100*53+35"
   ]
  },
  {
   "cell_type": "code",
   "execution_count": null,
   "metadata": {},
   "outputs": [],
   "source": []
  }
 ],
 "metadata": {
  "kernelspec": {
   "display_name": "Python 3",
   "language": "python",
   "name": "python3"
  },
  "language_info": {
   "codemirror_mode": {
    "name": "ipython",
    "version": 3
   },
   "file_extension": ".py",
   "mimetype": "text/x-python",
   "name": "python",
   "nbconvert_exporter": "python",
   "pygments_lexer": "ipython3",
   "version": "3.7.3"
  }
 },
 "nbformat": 4,
 "nbformat_minor": 2
}
