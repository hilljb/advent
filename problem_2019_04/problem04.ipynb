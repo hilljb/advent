{
 "cells": [
  {
   "cell_type": "code",
   "execution_count": 1,
   "metadata": {},
   "outputs": [],
   "source": [
    "import time"
   ]
  },
  {
   "cell_type": "code",
   "execution_count": 2,
   "metadata": {},
   "outputs": [],
   "source": [
    "p0=264360\n",
    "p1=746325"
   ]
  },
  {
   "cell_type": "markdown",
   "metadata": {},
   "source": [
    "## First Part"
   ]
  },
  {
   "cell_type": "code",
   "execution_count": 3,
   "metadata": {},
   "outputs": [],
   "source": [
    "def is_password(n):\n",
    "    # Dirty Python... turn a number n into a list of ints\n",
    "    L = [int(m) for m in list(str(n))]\n",
    "    \n",
    "    # Numbers have to stay the same or increase through the list\n",
    "    if not all([L[i]<=L[i+1] for i in range(len(L)-1)]):\n",
    "        return(False)\n",
    "    \n",
    "    # Something has to repeat\n",
    "    if not len(set(L))<len(L):\n",
    "        return(False)\n",
    "    \n",
    "    # If you reach here, it's a valid password\n",
    "    return(True)"
   ]
  },
  {
   "cell_type": "code",
   "execution_count": 4,
   "metadata": {},
   "outputs": [
    {
     "data": {
      "text/plain": [
       "True"
      ]
     },
     "execution_count": 4,
     "metadata": {},
     "output_type": "execute_result"
    }
   ],
   "source": [
    "is_password(111111)"
   ]
  },
  {
   "cell_type": "code",
   "execution_count": 5,
   "metadata": {},
   "outputs": [
    {
     "data": {
      "text/plain": [
       "False"
      ]
     },
     "execution_count": 5,
     "metadata": {},
     "output_type": "execute_result"
    }
   ],
   "source": [
    "is_password(223450)"
   ]
  },
  {
   "cell_type": "code",
   "execution_count": 6,
   "metadata": {},
   "outputs": [
    {
     "data": {
      "text/plain": [
       "False"
      ]
     },
     "execution_count": 6,
     "metadata": {},
     "output_type": "execute_result"
    }
   ],
   "source": [
    "is_password(123789)"
   ]
  },
  {
   "cell_type": "code",
   "execution_count": 7,
   "metadata": {},
   "outputs": [
    {
     "name": "stdout",
     "output_type": "stream",
     "text": [
      "945 found in 1.233371 seconds\n"
     ]
    }
   ],
   "source": [
    "start_time = time.time()\n",
    "\n",
    "password=0\n",
    "\n",
    "for i in range(p0,p1+1):\n",
    "    if is_password(i):\n",
    "        password += 1\n",
    "        \n",
    "elapsed_time = time.time() - start_time\n",
    "\n",
    "print(\"%s found in %f seconds\" % (password, elapsed_time))"
   ]
  },
  {
   "cell_type": "markdown",
   "metadata": {},
   "source": [
    "## Second Part"
   ]
  },
  {
   "cell_type": "code",
   "execution_count": 8,
   "metadata": {},
   "outputs": [],
   "source": [
    "def is_password(n):\n",
    "    # Dirty Python... turn a number n into a list of ints\n",
    "    L = [int(m) for m in list(str(n))]\n",
    "    \n",
    "    # Numbers have to stay the same or increase through the list\n",
    "    if not all([L[i]<=L[i+1] for i in range(len(L)-1)]):\n",
    "        return(False)\n",
    "    \n",
    "    # There needs to be a double of some specific int\n",
    "    if not any([L.count(i)==2 for i in L]):\n",
    "        return(False)\n",
    "    \n",
    "    # If you reach here, it's a valid password\n",
    "    return(True)"
   ]
  },
  {
   "cell_type": "code",
   "execution_count": 9,
   "metadata": {},
   "outputs": [
    {
     "name": "stdout",
     "output_type": "stream",
     "text": [
      "617 found in 1.227564 seconds\n"
     ]
    }
   ],
   "source": [
    "start_time = time.time()\n",
    "\n",
    "password=0\n",
    "\n",
    "for i in range(p0,p1+1):\n",
    "    if is_password(i):\n",
    "        password += 1\n",
    "        \n",
    "elapsed_time = time.time() - start_time\n",
    "\n",
    "print(\"%s found in %f seconds\" % (password, elapsed_time))"
   ]
  }
 ],
 "metadata": {
  "kernelspec": {
   "display_name": "Python 3",
   "language": "python",
   "name": "python3"
  },
  "language_info": {
   "codemirror_mode": {
    "name": "ipython",
    "version": 3
   },
   "file_extension": ".py",
   "mimetype": "text/x-python",
   "name": "python",
   "nbconvert_exporter": "python",
   "pygments_lexer": "ipython3",
   "version": "3.7.3"
  }
 },
 "nbformat": 4,
 "nbformat_minor": 2
}
