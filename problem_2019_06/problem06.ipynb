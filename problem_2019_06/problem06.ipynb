{
 "cells": [
  {
   "cell_type": "markdown",
   "metadata": {},
   "source": [
    "## Problem 6 Part 1"
   ]
  },
  {
   "cell_type": "code",
   "execution_count": 1,
   "metadata": {},
   "outputs": [],
   "source": [
    "filename = 'data.txt'\n",
    "\n",
    "lines = []\n",
    "\n",
    "f_p = open(filename, 'r')\n",
    "for line in f_p:\n",
    "    lines.append(line.replace('\\n',''))\n",
    "f_p.close()"
   ]
  },
  {
   "cell_type": "code",
   "execution_count": 2,
   "metadata": {},
   "outputs": [],
   "source": [
    "nodes = {}\n",
    "\n",
    "for line in lines:\n",
    "    orbit = line.split(')')\n",
    "    \n",
    "    for node in orbit:\n",
    "        if node not in nodes.keys():\n",
    "            nodes[node] = {\n",
    "                'children': [],\n",
    "                'depth': 0\n",
    "            }\n",
    "    \n",
    "    nodes[orbit[0]]['children'].append(orbit[1])"
   ]
  },
  {
   "cell_type": "code",
   "execution_count": 3,
   "metadata": {},
   "outputs": [],
   "source": [
    "def add_depths(nodes, start, level=0):\n",
    "    \n",
    "    for child in nodes[start]['children']:\n",
    "        add_depths(nodes=nodes, start=child, level=level+1)\n",
    "        \n",
    "    nodes[start]['depth'] = level"
   ]
  },
  {
   "cell_type": "code",
   "execution_count": 4,
   "metadata": {},
   "outputs": [],
   "source": [
    "add_depths(nodes=nodes, start='COM')"
   ]
  },
  {
   "cell_type": "code",
   "execution_count": 5,
   "metadata": {},
   "outputs": [
    {
     "data": {
      "text/plain": [
       "162816"
      ]
     },
     "execution_count": 5,
     "metadata": {},
     "output_type": "execute_result"
    }
   ],
   "source": [
    "sum([nodes[d]['depth'] for d in nodes.keys()])"
   ]
  },
  {
   "cell_type": "markdown",
   "metadata": {},
   "source": [
    "## Problem 6 Part 2"
   ]
  },
  {
   "cell_type": "code",
   "execution_count": 6,
   "metadata": {},
   "outputs": [],
   "source": [
    "def get_parent(nodes, name):\n",
    "    for key in nodes.keys():\n",
    "        if name in nodes[key]['children']:\n",
    "            return(key)\n",
    "    return(None)\n",
    "\n",
    "def get_path(nodes, name):\n",
    "    path = [name]\n",
    "    while name != 'COM':\n",
    "        name = get_parent(nodes=nodes, name=name)\n",
    "        path.append(name)\n",
    "    path.reverse()\n",
    "    return(path)"
   ]
  },
  {
   "cell_type": "code",
   "execution_count": 7,
   "metadata": {},
   "outputs": [
    {
     "data": {
      "text/plain": [
       "'HGN'"
      ]
     },
     "execution_count": 7,
     "metadata": {},
     "output_type": "execute_result"
    }
   ],
   "source": [
    "get_parent(nodes=nodes, name='SAN')"
   ]
  },
  {
   "cell_type": "code",
   "execution_count": 8,
   "metadata": {},
   "outputs": [],
   "source": [
    "you_path = get_path(nodes=nodes, name='YOU')\n",
    "san_path = get_path(nodes=nodes, name='SAN')"
   ]
  },
  {
   "cell_type": "code",
   "execution_count": 9,
   "metadata": {},
   "outputs": [
    {
     "data": {
      "text/plain": [
       "54"
      ]
     },
     "execution_count": 9,
     "metadata": {},
     "output_type": "execute_result"
    }
   ],
   "source": [
    "# How long are the paths to YOU and SAN identical?\n",
    "max([i for i in range(min([len(you_path), len(san_path)])) if you_path[i]==san_path[i]])"
   ]
  },
  {
   "cell_type": "code",
   "execution_count": 10,
   "metadata": {},
   "outputs": [
    {
     "data": {
      "text/plain": [
       "304"
      ]
     },
     "execution_count": 10,
     "metadata": {},
     "output_type": "execute_result"
    }
   ],
   "source": [
    "len(san_path)-56 + len(you_path)-56"
   ]
  },
  {
   "cell_type": "code",
   "execution_count": null,
   "metadata": {},
   "outputs": [],
   "source": []
  }
 ],
 "metadata": {
  "kernelspec": {
   "display_name": "Python 3",
   "language": "python",
   "name": "python3"
  },
  "language_info": {
   "codemirror_mode": {
    "name": "ipython",
    "version": 3
   },
   "file_extension": ".py",
   "mimetype": "text/x-python",
   "name": "python",
   "nbconvert_exporter": "python",
   "pygments_lexer": "ipython3",
   "version": "3.7.3"
  }
 },
 "nbformat": 4,
 "nbformat_minor": 2
}
